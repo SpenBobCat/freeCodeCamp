{
  "nbformat": 4,
  "nbformat_minor": 0,
  "metadata": {
    "colab": {
      "provenance": [],
      "toc_visible": true,
      "collapsed_sections": [
        "Tb1rYoewVbhf",
        "SX1Gou2CcFZ5",
        "aHD0qG7Khl43",
        "7MhITi5_j-5r",
        "NS-MEojap13d",
        "fb2y2RidklSR",
        "41GvsFSEj1M9",
        "8j0cZS6MjNu6",
        "Q_IaJRyljdTE",
        "dZG7pcprkUnX",
        "mxoIcmIluaKf",
        "2I_BZns2rlKf",
        "6Xy0i5lMmo_J",
        "D-x0JNFCdgNi",
        "uw0zwudGBErL",
        "piYnaYfUHSUb",
        "5KBLd5tcH0Tv",
        "jwmoBnzCl_33",
        "kRoj56Y5jlJP",
        "-80VOHy7je5N",
        "VnDUk4x7mTi7",
        "4qWvtvxzFtaZ",
        "reYdcb_KzONH",
        "5zvAN4Yl1_1Y"
      ],
      "authorship_tag": "ABX9TyP15+eE86mWBu3Ll7grB0/X",
      "include_colab_link": true
    },
    "kernelspec": {
      "name": "python3",
      "display_name": "Python 3"
    },
    "language_info": {
      "name": "python"
    },
    "widgets": {
      "application/vnd.jupyter.widget-state+json": {
        "2f0bbdc51a09440a8c0faeecc2e63962": {
          "model_module": "@jupyter-widgets/controls",
          "model_name": "VBoxModel",
          "model_module_version": "1.5.0",
          "state": {
            "_dom_classes": [
              "widget-interact"
            ],
            "_model_module": "@jupyter-widgets/controls",
            "_model_module_version": "1.5.0",
            "_model_name": "VBoxModel",
            "_view_count": null,
            "_view_module": "@jupyter-widgets/controls",
            "_view_module_version": "1.5.0",
            "_view_name": "VBoxView",
            "box_style": "",
            "children": [
              "IPY_MODEL_4ed31e5329f04834b972b8831a809001",
              "IPY_MODEL_7582fcc62ef142c0b6b8743cd869648c"
            ],
            "layout": "IPY_MODEL_03214f02bc424d10b7d0c2d5095c6eac"
          }
        },
        "4ed31e5329f04834b972b8831a809001": {
          "model_module": "@jupyter-widgets/controls",
          "model_name": "IntSliderModel",
          "model_module_version": "1.5.0",
          "state": {
            "_dom_classes": [],
            "_model_module": "@jupyter-widgets/controls",
            "_model_module_version": "1.5.0",
            "_model_name": "IntSliderModel",
            "_view_count": null,
            "_view_module": "@jupyter-widgets/controls",
            "_view_module_version": "1.5.0",
            "_view_name": "IntSliderView",
            "continuous_update": true,
            "description": "zoom",
            "description_tooltip": null,
            "disabled": false,
            "layout": "IPY_MODEL_301d72d4658e4508b9cdf0243377db53",
            "max": 100,
            "min": 1,
            "orientation": "horizontal",
            "readout": true,
            "readout_format": "d",
            "step": 1,
            "style": "IPY_MODEL_ca9106f2983b4f7db8b280aa77346035",
            "value": 50
          }
        },
        "7582fcc62ef142c0b6b8743cd869648c": {
          "model_module": "@jupyter-widgets/output",
          "model_name": "OutputModel",
          "model_module_version": "1.0.0",
          "state": {
            "_dom_classes": [],
            "_model_module": "@jupyter-widgets/output",
            "_model_module_version": "1.0.0",
            "_model_name": "OutputModel",
            "_view_count": null,
            "_view_module": "@jupyter-widgets/output",
            "_view_module_version": "1.0.0",
            "_view_name": "OutputView",
            "layout": "IPY_MODEL_f51a290acbf845f6a1f1a80cd713f444",
            "msg_id": "",
            "outputs": [
              {
                "output_type": "display_data",
                "data": {
                  "text/plain": "<Figure size 640x480 with 1 Axes>",
                  "image/png": "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\n"
                },
                "metadata": {}
              }
            ]
          }
        },
        "03214f02bc424d10b7d0c2d5095c6eac": {
          "model_module": "@jupyter-widgets/base",
          "model_name": "LayoutModel",
          "model_module_version": "1.2.0",
          "state": {
            "_model_module": "@jupyter-widgets/base",
            "_model_module_version": "1.2.0",
            "_model_name": "LayoutModel",
            "_view_count": null,
            "_view_module": "@jupyter-widgets/base",
            "_view_module_version": "1.2.0",
            "_view_name": "LayoutView",
            "align_content": null,
            "align_items": null,
            "align_self": null,
            "border": null,
            "bottom": null,
            "display": null,
            "flex": null,
            "flex_flow": null,
            "grid_area": null,
            "grid_auto_columns": null,
            "grid_auto_flow": null,
            "grid_auto_rows": null,
            "grid_column": null,
            "grid_gap": null,
            "grid_row": null,
            "grid_template_areas": null,
            "grid_template_columns": null,
            "grid_template_rows": null,
            "height": null,
            "justify_content": null,
            "justify_items": null,
            "left": null,
            "margin": null,
            "max_height": null,
            "max_width": null,
            "min_height": null,
            "min_width": null,
            "object_fit": null,
            "object_position": null,
            "order": null,
            "overflow": null,
            "overflow_x": null,
            "overflow_y": null,
            "padding": null,
            "right": null,
            "top": null,
            "visibility": null,
            "width": null
          }
        },
        "301d72d4658e4508b9cdf0243377db53": {
          "model_module": "@jupyter-widgets/base",
          "model_name": "LayoutModel",
          "model_module_version": "1.2.0",
          "state": {
            "_model_module": "@jupyter-widgets/base",
            "_model_module_version": "1.2.0",
            "_model_name": "LayoutModel",
            "_view_count": null,
            "_view_module": "@jupyter-widgets/base",
            "_view_module_version": "1.2.0",
            "_view_name": "LayoutView",
            "align_content": null,
            "align_items": null,
            "align_self": null,
            "border": null,
            "bottom": null,
            "display": null,
            "flex": null,
            "flex_flow": null,
            "grid_area": null,
            "grid_auto_columns": null,
            "grid_auto_flow": null,
            "grid_auto_rows": null,
            "grid_column": null,
            "grid_gap": null,
            "grid_row": null,
            "grid_template_areas": null,
            "grid_template_columns": null,
            "grid_template_rows": null,
            "height": null,
            "justify_content": null,
            "justify_items": null,
            "left": null,
            "margin": null,
            "max_height": null,
            "max_width": null,
            "min_height": null,
            "min_width": null,
            "object_fit": null,
            "object_position": null,
            "order": null,
            "overflow": null,
            "overflow_x": null,
            "overflow_y": null,
            "padding": null,
            "right": null,
            "top": null,
            "visibility": null,
            "width": null
          }
        },
        "ca9106f2983b4f7db8b280aa77346035": {
          "model_module": "@jupyter-widgets/controls",
          "model_name": "SliderStyleModel",
          "model_module_version": "1.5.0",
          "state": {
            "_model_module": "@jupyter-widgets/controls",
            "_model_module_version": "1.5.0",
            "_model_name": "SliderStyleModel",
            "_view_count": null,
            "_view_module": "@jupyter-widgets/base",
            "_view_module_version": "1.2.0",
            "_view_name": "StyleView",
            "description_width": "",
            "handle_color": null
          }
        },
        "f51a290acbf845f6a1f1a80cd713f444": {
          "model_module": "@jupyter-widgets/base",
          "model_name": "LayoutModel",
          "model_module_version": "1.2.0",
          "state": {
            "_model_module": "@jupyter-widgets/base",
            "_model_module_version": "1.2.0",
            "_model_name": "LayoutModel",
            "_view_count": null,
            "_view_module": "@jupyter-widgets/base",
            "_view_module_version": "1.2.0",
            "_view_name": "LayoutView",
            "align_content": null,
            "align_items": null,
            "align_self": null,
            "border": null,
            "bottom": null,
            "display": null,
            "flex": null,
            "flex_flow": null,
            "grid_area": null,
            "grid_auto_columns": null,
            "grid_auto_flow": null,
            "grid_auto_rows": null,
            "grid_column": null,
            "grid_gap": null,
            "grid_row": null,
            "grid_template_areas": null,
            "grid_template_columns": null,
            "grid_template_rows": null,
            "height": null,
            "justify_content": null,
            "justify_items": null,
            "left": null,
            "margin": null,
            "max_height": null,
            "max_width": null,
            "min_height": null,
            "min_width": null,
            "object_fit": null,
            "object_position": null,
            "order": null,
            "overflow": null,
            "overflow_x": null,
            "overflow_y": null,
            "padding": null,
            "right": null,
            "top": null,
            "visibility": null,
            "width": null
          }
        },
        "e30605b9400c4e2ea2a2445f08a22b26": {
          "model_module": "@jupyter-widgets/controls",
          "model_name": "VBoxModel",
          "model_module_version": "1.5.0",
          "state": {
            "_dom_classes": [
              "widget-interact"
            ],
            "_model_module": "@jupyter-widgets/controls",
            "_model_module_version": "1.5.0",
            "_model_name": "VBoxModel",
            "_view_count": null,
            "_view_module": "@jupyter-widgets/controls",
            "_view_module_version": "1.5.0",
            "_view_name": "VBoxView",
            "box_style": "",
            "children": [
              "IPY_MODEL_0a7399df15504d2997b92ccb1f639930",
              "IPY_MODEL_002a1c6419554c1c9336b3ae8cc11b87",
              "IPY_MODEL_07dcc0a1ae9347d7bfb0d2db553719de",
              "IPY_MODEL_8a5a2d39180b428d85c957e434a2549d"
            ],
            "layout": "IPY_MODEL_dee8ddf77c254bcda54ed81454cdd0ea"
          }
        },
        "0a7399df15504d2997b92ccb1f639930": {
          "model_module": "@jupyter-widgets/controls",
          "model_name": "IntSliderModel",
          "model_module_version": "1.5.0",
          "state": {
            "_dom_classes": [],
            "_model_module": "@jupyter-widgets/controls",
            "_model_module_version": "1.5.0",
            "_model_name": "IntSliderModel",
            "_view_count": null,
            "_view_module": "@jupyter-widgets/controls",
            "_view_module_version": "1.5.0",
            "_view_name": "IntSliderView",
            "continuous_update": true,
            "description": "a",
            "description_tooltip": null,
            "disabled": false,
            "layout": "IPY_MODEL_c35df73fce86475ebc338a63a8028994",
            "max": 9,
            "min": 1,
            "orientation": "horizontal",
            "readout": true,
            "readout_format": "d",
            "step": 1,
            "style": "IPY_MODEL_fde1ce3bc8764cea9d94380d98d9a5f0",
            "value": 7
          }
        },
        "002a1c6419554c1c9336b3ae8cc11b87": {
          "model_module": "@jupyter-widgets/controls",
          "model_name": "IntSliderModel",
          "model_module_version": "1.5.0",
          "state": {
            "_dom_classes": [],
            "_model_module": "@jupyter-widgets/controls",
            "_model_module_version": "1.5.0",
            "_model_name": "IntSliderModel",
            "_view_count": null,
            "_view_module": "@jupyter-widgets/controls",
            "_view_module_version": "1.5.0",
            "_view_name": "IntSliderView",
            "continuous_update": true,
            "description": "b",
            "description_tooltip": null,
            "disabled": false,
            "layout": "IPY_MODEL_3e1b289348244ec29a4d8da14c1c0061",
            "max": 9,
            "min": -9,
            "orientation": "horizontal",
            "readout": true,
            "readout_format": "d",
            "step": 1,
            "style": "IPY_MODEL_dcbec5bfaf2f4a32b987749978b77c02",
            "value": -3
          }
        },
        "07dcc0a1ae9347d7bfb0d2db553719de": {
          "model_module": "@jupyter-widgets/controls",
          "model_name": "IntSliderModel",
          "model_module_version": "1.5.0",
          "state": {
            "_dom_classes": [],
            "_model_module": "@jupyter-widgets/controls",
            "_model_module_version": "1.5.0",
            "_model_name": "IntSliderModel",
            "_view_count": null,
            "_view_module": "@jupyter-widgets/controls",
            "_view_module_version": "1.5.0",
            "_view_name": "IntSliderView",
            "continuous_update": true,
            "description": "c",
            "description_tooltip": null,
            "disabled": false,
            "layout": "IPY_MODEL_f73773cd8f9445c6a2c4d3681d8d5a3d",
            "max": 9,
            "min": -9,
            "orientation": "horizontal",
            "readout": true,
            "readout_format": "d",
            "step": 1,
            "style": "IPY_MODEL_5073a3b0a5b944e4a3a9552d730203af",
            "value": 4
          }
        },
        "8a5a2d39180b428d85c957e434a2549d": {
          "model_module": "@jupyter-widgets/output",
          "model_name": "OutputModel",
          "model_module_version": "1.0.0",
          "state": {
            "_dom_classes": [],
            "_model_module": "@jupyter-widgets/output",
            "_model_module_version": "1.0.0",
            "_model_name": "OutputModel",
            "_view_count": null,
            "_view_module": "@jupyter-widgets/output",
            "_view_module_version": "1.0.0",
            "_view_name": "OutputView",
            "layout": "IPY_MODEL_200f02a9610f4696a05bff18071425cd",
            "msg_id": "",
            "outputs": [
              {
                "output_type": "display_data",
                "data": {
                  "text/plain": "<Figure size 640x480 with 1 Axes>",
                  "image/png": "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\n"
                },
                "metadata": {}
              }
            ]
          }
        },
        "dee8ddf77c254bcda54ed81454cdd0ea": {
          "model_module": "@jupyter-widgets/base",
          "model_name": "LayoutModel",
          "model_module_version": "1.2.0",
          "state": {
            "_model_module": "@jupyter-widgets/base",
            "_model_module_version": "1.2.0",
            "_model_name": "LayoutModel",
            "_view_count": null,
            "_view_module": "@jupyter-widgets/base",
            "_view_module_version": "1.2.0",
            "_view_name": "LayoutView",
            "align_content": null,
            "align_items": null,
            "align_self": null,
            "border": null,
            "bottom": null,
            "display": null,
            "flex": null,
            "flex_flow": null,
            "grid_area": null,
            "grid_auto_columns": null,
            "grid_auto_flow": null,
            "grid_auto_rows": null,
            "grid_column": null,
            "grid_gap": null,
            "grid_row": null,
            "grid_template_areas": null,
            "grid_template_columns": null,
            "grid_template_rows": null,
            "height": null,
            "justify_content": null,
            "justify_items": null,
            "left": null,
            "margin": null,
            "max_height": null,
            "max_width": null,
            "min_height": null,
            "min_width": null,
            "object_fit": null,
            "object_position": null,
            "order": null,
            "overflow": null,
            "overflow_x": null,
            "overflow_y": null,
            "padding": null,
            "right": null,
            "top": null,
            "visibility": null,
            "width": null
          }
        },
        "c35df73fce86475ebc338a63a8028994": {
          "model_module": "@jupyter-widgets/base",
          "model_name": "LayoutModel",
          "model_module_version": "1.2.0",
          "state": {
            "_model_module": "@jupyter-widgets/base",
            "_model_module_version": "1.2.0",
            "_model_name": "LayoutModel",
            "_view_count": null,
            "_view_module": "@jupyter-widgets/base",
            "_view_module_version": "1.2.0",
            "_view_name": "LayoutView",
            "align_content": null,
            "align_items": null,
            "align_self": null,
            "border": null,
            "bottom": null,
            "display": null,
            "flex": null,
            "flex_flow": null,
            "grid_area": null,
            "grid_auto_columns": null,
            "grid_auto_flow": null,
            "grid_auto_rows": null,
            "grid_column": null,
            "grid_gap": null,
            "grid_row": null,
            "grid_template_areas": null,
            "grid_template_columns": null,
            "grid_template_rows": null,
            "height": null,
            "justify_content": null,
            "justify_items": null,
            "left": null,
            "margin": null,
            "max_height": null,
            "max_width": null,
            "min_height": null,
            "min_width": null,
            "object_fit": null,
            "object_position": null,
            "order": null,
            "overflow": null,
            "overflow_x": null,
            "overflow_y": null,
            "padding": null,
            "right": null,
            "top": null,
            "visibility": null,
            "width": null
          }
        },
        "fde1ce3bc8764cea9d94380d98d9a5f0": {
          "model_module": "@jupyter-widgets/controls",
          "model_name": "SliderStyleModel",
          "model_module_version": "1.5.0",
          "state": {
            "_model_module": "@jupyter-widgets/controls",
            "_model_module_version": "1.5.0",
            "_model_name": "SliderStyleModel",
            "_view_count": null,
            "_view_module": "@jupyter-widgets/base",
            "_view_module_version": "1.2.0",
            "_view_name": "StyleView",
            "description_width": "",
            "handle_color": null
          }
        },
        "3e1b289348244ec29a4d8da14c1c0061": {
          "model_module": "@jupyter-widgets/base",
          "model_name": "LayoutModel",
          "model_module_version": "1.2.0",
          "state": {
            "_model_module": "@jupyter-widgets/base",
            "_model_module_version": "1.2.0",
            "_model_name": "LayoutModel",
            "_view_count": null,
            "_view_module": "@jupyter-widgets/base",
            "_view_module_version": "1.2.0",
            "_view_name": "LayoutView",
            "align_content": null,
            "align_items": null,
            "align_self": null,
            "border": null,
            "bottom": null,
            "display": null,
            "flex": null,
            "flex_flow": null,
            "grid_area": null,
            "grid_auto_columns": null,
            "grid_auto_flow": null,
            "grid_auto_rows": null,
            "grid_column": null,
            "grid_gap": null,
            "grid_row": null,
            "grid_template_areas": null,
            "grid_template_columns": null,
            "grid_template_rows": null,
            "height": null,
            "justify_content": null,
            "justify_items": null,
            "left": null,
            "margin": null,
            "max_height": null,
            "max_width": null,
            "min_height": null,
            "min_width": null,
            "object_fit": null,
            "object_position": null,
            "order": null,
            "overflow": null,
            "overflow_x": null,
            "overflow_y": null,
            "padding": null,
            "right": null,
            "top": null,
            "visibility": null,
            "width": null
          }
        },
        "dcbec5bfaf2f4a32b987749978b77c02": {
          "model_module": "@jupyter-widgets/controls",
          "model_name": "SliderStyleModel",
          "model_module_version": "1.5.0",
          "state": {
            "_model_module": "@jupyter-widgets/controls",
            "_model_module_version": "1.5.0",
            "_model_name": "SliderStyleModel",
            "_view_count": null,
            "_view_module": "@jupyter-widgets/base",
            "_view_module_version": "1.2.0",
            "_view_name": "StyleView",
            "description_width": "",
            "handle_color": null
          }
        },
        "f73773cd8f9445c6a2c4d3681d8d5a3d": {
          "model_module": "@jupyter-widgets/base",
          "model_name": "LayoutModel",
          "model_module_version": "1.2.0",
          "state": {
            "_model_module": "@jupyter-widgets/base",
            "_model_module_version": "1.2.0",
            "_model_name": "LayoutModel",
            "_view_count": null,
            "_view_module": "@jupyter-widgets/base",
            "_view_module_version": "1.2.0",
            "_view_name": "LayoutView",
            "align_content": null,
            "align_items": null,
            "align_self": null,
            "border": null,
            "bottom": null,
            "display": null,
            "flex": null,
            "flex_flow": null,
            "grid_area": null,
            "grid_auto_columns": null,
            "grid_auto_flow": null,
            "grid_auto_rows": null,
            "grid_column": null,
            "grid_gap": null,
            "grid_row": null,
            "grid_template_areas": null,
            "grid_template_columns": null,
            "grid_template_rows": null,
            "height": null,
            "justify_content": null,
            "justify_items": null,
            "left": null,
            "margin": null,
            "max_height": null,
            "max_width": null,
            "min_height": null,
            "min_width": null,
            "object_fit": null,
            "object_position": null,
            "order": null,
            "overflow": null,
            "overflow_x": null,
            "overflow_y": null,
            "padding": null,
            "right": null,
            "top": null,
            "visibility": null,
            "width": null
          }
        },
        "5073a3b0a5b944e4a3a9552d730203af": {
          "model_module": "@jupyter-widgets/controls",
          "model_name": "SliderStyleModel",
          "model_module_version": "1.5.0",
          "state": {
            "_model_module": "@jupyter-widgets/controls",
            "_model_module_version": "1.5.0",
            "_model_name": "SliderStyleModel",
            "_view_count": null,
            "_view_module": "@jupyter-widgets/base",
            "_view_module_version": "1.2.0",
            "_view_name": "StyleView",
            "description_width": "",
            "handle_color": null
          }
        },
        "200f02a9610f4696a05bff18071425cd": {
          "model_module": "@jupyter-widgets/base",
          "model_name": "LayoutModel",
          "model_module_version": "1.2.0",
          "state": {
            "_model_module": "@jupyter-widgets/base",
            "_model_module_version": "1.2.0",
            "_model_name": "LayoutModel",
            "_view_count": null,
            "_view_module": "@jupyter-widgets/base",
            "_view_module_version": "1.2.0",
            "_view_name": "LayoutView",
            "align_content": null,
            "align_items": null,
            "align_self": null,
            "border": null,
            "bottom": null,
            "display": null,
            "flex": null,
            "flex_flow": null,
            "grid_area": null,
            "grid_auto_columns": null,
            "grid_auto_flow": null,
            "grid_auto_rows": null,
            "grid_column": null,
            "grid_gap": null,
            "grid_row": null,
            "grid_template_areas": null,
            "grid_template_columns": null,
            "grid_template_rows": null,
            "height": null,
            "justify_content": null,
            "justify_items": null,
            "left": null,
            "margin": null,
            "max_height": null,
            "max_width": null,
            "min_height": null,
            "min_width": null,
            "object_fit": null,
            "object_position": null,
            "order": null,
            "overflow": null,
            "overflow_x": null,
            "overflow_y": null,
            "padding": null,
            "right": null,
            "top": null,
            "visibility": null,
            "width": null
          }
        }
      }
    }
  },
  "cells": [
    {
      "cell_type": "markdown",
      "metadata": {
        "id": "view-in-github",
        "colab_type": "text"
      },
      "source": [
        "<a href=\"https://colab.research.google.com/github/SpenBobCat/freeCodeCamp/blob/main/Algebra_With_Python.ipynb\" target=\"_parent\"><img src=\"https://colab.research.google.com/assets/colab-badge.svg\" alt=\"Open In Colab\"/></a>"
      ]
    },
    {
      "cell_type": "markdown",
      "source": [
        "# **Setting Up Proportions:**"
      ],
      "metadata": {
        "id": "Tb1rYoewVbhf"
      }
    },
    {
      "cell_type": "markdown",
      "source": [
        "$\\frac{n1}{d1} = \\frac{n2}{d2}$ \\\\\n",
        "<br/>\n",
        "\n",
        "```\n",
        "n1 = 1\n",
        "d1 = 2\n",
        "n2 = 0\n",
        "d2 = 16\n",
        "\n",
        "if n2 == 0:\n",
        "  answer = d2 * (n1/d1)\n",
        "  print(\"n2= \", answer)\n",
        "\n",
        "if d2 == 0:\n",
        "  answer = n2 * (d1/n1)\n",
        "  print(\"d2= \", answer)\n",
        "```"
      ],
      "metadata": {
        "id": "Aj-dubtTHiGg"
      }
    },
    {
      "cell_type": "code",
      "source": [
        "# Put a zero in for the unknown value:\n",
        "\n",
        "n1 = 1\n",
        "d1 = 2\n",
        "n2 = 0\n",
        "d2 = 16\n",
        "\n",
        "if n2 == 0:\n",
        "  answer = d2 * (n1/d1)\n",
        "  print(\"n2 = \", answer)\n",
        "\n",
        "if d2 == 0:\n",
        "  answer = n2 * (d1/n1)\n",
        "  print(\"d2 = \", answer)"
      ],
      "metadata": {
        "colab": {
          "base_uri": "https://localhost:8080/"
        },
        "id": "0f0wAwRzX5Lf",
        "outputId": "0ee4b8a2-e4ca-4d56-fe76-ef48be0ccdc9"
      },
      "execution_count": null,
      "outputs": [
        {
          "output_type": "stream",
          "name": "stdout",
          "text": [
            "n2 =  8.0\n"
          ]
        }
      ]
    },
    {
      "cell_type": "markdown",
      "source": [
        "**Question**\n",
        "\n",
        "In solving a proportion, if one numerator is zero, does the other numerator have to be zero for the statement to be true?\n",
        "\n",
        "Answer: Yes"
      ],
      "metadata": {
        "id": "IjqJMcQfcD8w"
      }
    },
    {
      "cell_type": "markdown",
      "source": [
        "# **One-Step Algebra Problems:**"
      ],
      "metadata": {
        "id": "SX1Gou2CcFZ5"
      }
    },
    {
      "cell_type": "markdown",
      "source": [
        "Run this code to practice solving one-step and two-step problems. It will give you 12 practice problems. If you don't get them all correct, you can run this again to get more practice. Your answer can be a fraction, decimal, or whole number."
      ],
      "metadata": {
        "id": "q-8yPdAvgNi6"
      }
    },
    {
      "cell_type": "code",
      "source": [
        "# converts string input (even fractions) to float\n",
        "def string_frac(in_string):\n",
        "    if \"/\" in in_string:\n",
        "        nd = in_string.split(\"/\")\n",
        "        n = float(nd[0])\n",
        "        d = float(nd[1])\n",
        "        ans = n/d\n",
        "        return ans\n",
        "    else:\n",
        "        ans = float(in_string)\n",
        "        return ans\n",
        "\n",
        "\n",
        "# Simplest one-step addition\n",
        "def one_step_add():\n",
        "    import random\n",
        "    # Display problem\n",
        "    a = random.randint(-4,10)\n",
        "    b = random.randint(2,24)\n",
        "    print(\"x + \", a, \" = \", b)\n",
        "    ans = float(input(\"x = \"))\n",
        "    answer = b-a\n",
        "    # Test input\n",
        "    if ans==answer:\n",
        "        print(\"Correct! \\n\")\n",
        "    else:\n",
        "        print(\"Try again\")\n",
        "        print(\"The correct answer is \", answer, \"\\n\")\n",
        "\n",
        "\n",
        "# One-step additon with negaive numbers\n",
        "def one_step_subtract():\n",
        "    import random\n",
        "    a = random.randint(-19,-1)\n",
        "    b = random.randint(2,24)\n",
        "    print(a, \" + x = \", b)\n",
        "    ans = float(input(\"x = \"))\n",
        "    # test\n",
        "    answer = b-a\n",
        "    if ans==answer:\n",
        "        print(\"Correct! \\n\")\n",
        "    else:\n",
        "        print(\"Try again\")\n",
        "        print(\"The correct answer is \", answer, \"\\n\")\n",
        "\n",
        "# One-step multiply\n",
        "def one_step_mult():\n",
        "    # Uses string_frac(<input string>)\n",
        "    import random\n",
        "    a = random.randint(1,11)\n",
        "    b = random.randint(2,24)\n",
        "    print(a, \"x = \", b)\n",
        "    print(\"Round your answer to two decimal places.\")\n",
        "    ans_in = (input(\"x = \"))\n",
        "    answer = round(b/a,2)\n",
        "    # test\n",
        "    if string_frac(ans_in)==answer:\n",
        "        print(\"Correct! \\n\")\n",
        "    else:\n",
        "        print(\"Try again\")\n",
        "        print(\"The correct answer is \", answer, \"\\n\")\n",
        "\n",
        "\n",
        "# One-step divide\n",
        "def one_step_div():\n",
        "    import random\n",
        "    a = random.randint(1,11)\n",
        "    b = random.randint(2,24)\n",
        "    print(\"x/\", a, \" = \", b)\n",
        "    ans = float(input(\"x = \"))\n",
        "    answer = b*a\n",
        "    # test\n",
        "    if ans==answer:\n",
        "        print(\"Correct! \\n\")\n",
        "    else:\n",
        "        print(\"Try again\")\n",
        "        print(\"The correct answer is \", answer, \"\\n\")\n",
        "\n",
        "\n",
        "# Two-step problems\n",
        "def two_step():\n",
        "    import random\n",
        "    # Uses string_frac()\n",
        "    a = random.randint(1,11)\n",
        "    b = random.randint(-7,12)\n",
        "    c = random.randint(2,36)\n",
        "    print(a, \"x + \", b, \" = \", c)\n",
        "    print(\"Round answer to two decimal places\")\n",
        "    ans_in = input(\"x = \")\n",
        "    answer = (c-b)/a\n",
        "    # test\n",
        "    if round(string_frac(ans_in),2)==round(answer,2):\n",
        "        print(\"Correct! \\n\")\n",
        "    else:\n",
        "        print(\"Try again\")\n",
        "        print(\"The correct answer is \", answer, \"\\n\")\n",
        "\n",
        "\n",
        "# test loop\n",
        "for a in range(2):\n",
        "    one_step_add()\n",
        "    one_step_subtract()\n",
        "    one_step_mult()\n",
        "    one_step_div()\n",
        "    two_step()\n",
        "    print(\" \")\n",
        "\n",
        "two_step()\n",
        "two_step()\n"
      ],
      "metadata": {
        "colab": {
          "base_uri": "https://localhost:8080/"
        },
        "id": "1R6PaeS2gP-q",
        "outputId": "81d372b0-47a3-4434-9525-df21f392de45"
      },
      "execution_count": 2,
      "outputs": [
        {
          "output_type": "stream",
          "name": "stdout",
          "text": [
            "x +  -4  =  11\n",
            "x = 15\n",
            "Correct! \n",
            "\n",
            "-19  + x =  2\n",
            "x = 21\n",
            "Correct! \n",
            "\n",
            "1 x =  14\n",
            "Round your answer to two decimal places.\n",
            "x = 14.00\n",
            "Correct! \n",
            "\n",
            "x/ 9  =  10\n",
            "x = 90\n",
            "Correct! \n",
            "\n",
            "7 x +  1  =  28\n",
            "Round answer to two decimal places\n",
            "x = 3.86\n",
            "Correct! \n",
            "\n",
            " \n",
            "x +  -2  =  6\n",
            "x = 8\n",
            "Correct! \n",
            "\n",
            "-6  + x =  20\n",
            "x = 26\n",
            "Correct! \n",
            "\n",
            "4 x =  18\n",
            "Round your answer to two decimal places.\n",
            "x = 4.50\n",
            "Correct! \n",
            "\n",
            "x/ 1  =  5\n",
            "x = 5\n",
            "Correct! \n",
            "\n",
            "6 x +  -7  =  24\n",
            "Round answer to two decimal places\n",
            "x = 5.17\n",
            "Correct! \n",
            "\n",
            " \n",
            "1 x +  9  =  11\n",
            "Round answer to two decimal places\n",
            "x = 2\n",
            "Correct! \n",
            "\n",
            "4 x +  1  =  31\n",
            "Round answer to two decimal places\n",
            "x = 7.50\n",
            "Correct! \n",
            "\n"
          ]
        }
      ]
    },
    {
      "cell_type": "markdown",
      "source": [
        "# **Solving for X - Unknown:**"
      ],
      "metadata": {
        "id": "aHD0qG7Khl43"
      }
    },
    {
      "cell_type": "code",
      "source": [
        "import sympy \n",
        "from sympy import symbols \n",
        "from sympy.solvers import solve \n",
        "\n",
        "x = symbols('x') \n",
        "\n",
        "# Put the equation here\n",
        "eq = 2*x - 4\n",
        "\n",
        "print(\"x = \", solve(eq,x))\n",
        "\n"
      ],
      "metadata": {
        "colab": {
          "base_uri": "https://localhost:8080/"
        },
        "id": "IYzBCXhzjDhN",
        "outputId": "3ea5324b-137a-40e4-c558-cabdb3c13061"
      },
      "execution_count": 4,
      "outputs": [
        {
          "output_type": "stream",
          "name": "stdout",
          "text": [
            "x =  [2]\n"
          ]
        }
      ]
    },
    {
      "cell_type": "markdown",
      "source": [
        "# **How to Solve for X: Extra**"
      ],
      "metadata": {
        "id": "7MhITi5_j-5r"
      }
    },
    {
      "cell_type": "markdown",
      "source": [
        "\n",
        "Simplest solve-for-x code"
      ],
      "metadata": {
        "id": "nlnD4Wi6ktUJ"
      }
    },
    {
      "cell_type": "code",
      "source": [
        "import sympy \n",
        "from sympy import symbols \n",
        "from sympy.solvers import solve \n",
        "\n",
        "x = symbols('x') \n",
        "\n",
        "# Put the equation here\n",
        "eq = 2*x**2 - 4\n",
        "\n",
        "solve(eq,x)\n"
      ],
      "metadata": {
        "colab": {
          "base_uri": "https://localhost:8080/"
        },
        "id": "mv4_fLWdksS8",
        "outputId": "db39f12f-44e5-4075-ce18-a592d6dbf5f5"
      },
      "execution_count": 5,
      "outputs": [
        {
          "output_type": "execute_result",
          "data": {
            "text/plain": [
              "[-sqrt(2), sqrt(2)]"
            ]
          },
          "metadata": {},
          "execution_count": 5
        }
      ]
    },
    {
      "cell_type": "markdown",
      "source": [
        "Prompt for someone to enter the equation, then solve"
      ],
      "metadata": {
        "id": "UJTc8qYxki4G"
      }
    },
    {
      "cell_type": "code",
      "source": [
        "import sympy\n",
        "from sympy import symbols\n",
        "from sympy.solvers import solve\n",
        "\n",
        "x = symbols('x')\n",
        "eq = input('Enter equation: 0 = ')\n",
        "\n",
        "print(\"x = \", solve(eq,x))\n"
      ],
      "metadata": {
        "colab": {
          "base_uri": "https://localhost:8080/"
        },
        "id": "R1G0kvQok9Wq",
        "outputId": "92e69aad-6ade-44df-836f-14b20272e9dc"
      },
      "execution_count": 6,
      "outputs": [
        {
          "output_type": "stream",
          "name": "stdout",
          "text": [
            "Enter equation: 0 = 3 * x - 6\n",
            "x =  [2]\n"
          ]
        }
      ]
    },
    {
      "cell_type": "markdown",
      "source": [
        "Doing more with the solution:"
      ],
      "metadata": {
        "id": "zgkZmRn2l0eB"
      }
    },
    {
      "cell_type": "code",
      "source": [
        "import sympy \n",
        "from sympy import symbols \n",
        "from sympy.solvers import solve \n",
        "\n",
        "x = symbols('x') \n",
        "\n",
        "# Put the equation here\n",
        "eq = 2*x - 4\n",
        "\n",
        "solution = solve(eq,x)\n",
        "print(\"x = \", solution[0])"
      ],
      "metadata": {
        "colab": {
          "base_uri": "https://localhost:8080/"
        },
        "id": "NmIXtlH3l8eL",
        "outputId": "fa8668a9-01c4-4ed1-8559-e3f37886c71a"
      },
      "execution_count": 7,
      "outputs": [
        {
          "output_type": "stream",
          "name": "stdout",
          "text": [
            "x =  2\n"
          ]
        }
      ]
    },
    {
      "cell_type": "markdown",
      "source": [
        "Multiple Answers:"
      ],
      "metadata": {
        "id": "qoe_zgimmBD0"
      }
    },
    {
      "cell_type": "code",
      "source": [
        "import sympy \n",
        "from sympy import symbols \n",
        "from sympy.solvers import solve \n",
        "\n",
        "x = symbols('x') \n",
        "\n",
        "eq = input('Enter equation: 0 = ')\n",
        "\n",
        "solution = solve(eq,x)\n",
        "for s in solution:\n",
        "    print(\"x = \", s)"
      ],
      "metadata": {
        "colab": {
          "base_uri": "https://localhost:8080/"
        },
        "id": "cPphlgnomSkO",
        "outputId": "3d4c32da-b1ca-4ead-97c2-d5c8fc7ba935"
      },
      "execution_count": 8,
      "outputs": [
        {
          "output_type": "stream",
          "name": "stdout",
          "text": [
            "Enter equation: 0 = (x-1)*(x+2)*(x-3)\n",
            "x =  -2\n",
            "x =  1\n",
            "x =  3\n"
          ]
        }
      ]
    },
    {
      "cell_type": "markdown",
      "source": [
        "Solving in other ways:"
      ],
      "metadata": {
        "id": "H26PLknvmnGq"
      }
    },
    {
      "cell_type": "code",
      "source": [
        "from sympy import *\n",
        "\n",
        "\n",
        "var('x y') \n",
        "\n",
        "# First equation set equal to zero, ready to solve\n",
        "first = 2*x - y\n",
        "\n",
        "\n",
        "# Sympy syntax for equation equal to zero, ready to factor\n",
        "eq1 = Eq(first,0) \n",
        "\n",
        "# Sympy solve for x\n",
        "sol = solve(eq1,x) \n",
        "\n",
        "# Show factored results\n",
        "print(\"x = \", sol[0])\n",
        "\n"
      ],
      "metadata": {
        "colab": {
          "base_uri": "https://localhost:8080/"
        },
        "id": "flbJQ6DGmn_B",
        "outputId": "b5dc5997-cc72-4120-e6c4-8ffb093079b3"
      },
      "execution_count": 9,
      "outputs": [
        {
          "output_type": "stream",
          "name": "stdout",
          "text": [
            "x =  y/2\n"
          ]
        }
      ]
    },
    {
      "cell_type": "markdown",
      "source": [
        "Factoring:"
      ],
      "metadata": {
        "id": "5WT7-rtjmrjq"
      }
    },
    {
      "cell_type": "code",
      "source": [
        "import sympy \n",
        "from sympy import * \n",
        "\n",
        "var('x y') \n",
        "\n",
        "# Equation set equal to zero, ready to solve\n",
        "#eq = x**2-4\n",
        "eq = x**3 - 2*x**2 - 5*x + 6 \n",
        "\n",
        "sympy.factor(eq)\n"
      ],
      "metadata": {
        "colab": {
          "base_uri": "https://localhost:8080/",
          "height": 38
        },
        "id": "g4AN5lVXmxpa",
        "outputId": "741481c0-1f98-40ae-91c6-4cf9566f1d2f"
      },
      "execution_count": 10,
      "outputs": [
        {
          "output_type": "execute_result",
          "data": {
            "text/plain": [
              "(x - 3)*(x - 1)*(x + 2)"
            ],
            "text/latex": "$\\displaystyle \\left(x - 3\\right) \\left(x - 1\\right) \\left(x + 2\\right)$"
          },
          "metadata": {},
          "execution_count": 10
        }
      ]
    },
    {
      "cell_type": "markdown",
      "source": [
        "Explaining how each function works:"
      ],
      "metadata": {
        "id": "Aj6TC77Dm18b"
      }
    },
    {
      "cell_type": "code",
      "source": [
        "# converts string input (including fractions) to float\n",
        "def string_frac(in_string):\n",
        "    if \"/\" in in_string:\n",
        "        nd = in_string.split(\"/\")\n",
        "        n = float(nd[0])\n",
        "        d = float(nd[1])\n",
        "        ans = n/d\n",
        "        return ans\n",
        "    else:\n",
        "        ans = float(in_string)\n",
        "        return ans\n",
        "\n",
        "\n",
        "# Simplest one-step addition\n",
        "def one_step_add():\n",
        "    import random\n",
        "    # Display problem\n",
        "    a = random.randint(-4,10)\n",
        "    b = random.randint(2,24)\n",
        "    print(\"x + \", a, \" = \", b) \n",
        "    ans = float(input(\"x = \"))\n",
        "    answer = b-a\n",
        "    # Test input\n",
        "    if ans==answer:\n",
        "        print(\"Correct! \\n\")\n",
        "    else:\n",
        "        print(\"Try again\")\n",
        "        print(\"The correct answer is \", answer, \"\\n\")\n",
        "\n",
        "\n",
        "# One-step additon with negaive numbers\n",
        "def one_step_subtract():\n",
        "    import random\n",
        "    a = random.randint(-19,-1)\n",
        "    b = random.randint(2,24)\n",
        "    print(a, \" + x = \", b)\n",
        "    ans = float(input(\"x = \"))\n",
        "    # test\n",
        "    answer = b-a\n",
        "    if ans==answer:\n",
        "        print(\"Correct! \\n\")\n",
        "    else:\n",
        "        print(\"Try again\")\n",
        "        print(\"The correct answer is \", answer, \"\\n\")\n",
        "\n",
        "# One-step multiply\n",
        "def one_step_mult():\n",
        "    # Uses string_frac(<input string>)\n",
        "    import random\n",
        "    a = random.randint(1,11) \n",
        "    b = random.randint(2,24)\n",
        "    print(a, \"x = \", b) \n",
        "    ans_in = (input(\"x = \"))\n",
        "    answer = b/a\n",
        "    # test\n",
        "    if string_frac(ans_in)==answer:\n",
        "        print(\"Correct! \\n\")\n",
        "    else:\n",
        "        print(\"Try again\")\n",
        "        print(\"The correct answer is \", answer, \"\\n\")\n",
        "\n"
      ],
      "metadata": {
        "id": "QV5f7B3om_wM"
      },
      "execution_count": 12,
      "outputs": []
    },
    {
      "cell_type": "markdown",
      "source": [
        "Can't do string to fraction:"
      ],
      "metadata": {
        "id": "cMK2W5dJnH0d"
      }
    },
    {
      "cell_type": "code",
      "source": [
        "print(3/4)\n"
      ],
      "metadata": {
        "colab": {
          "base_uri": "https://localhost:8080/"
        },
        "id": "Z_bR9PcWnRcH",
        "outputId": "433f0fef-1de4-4e2f-fe67-a66606db1475"
      },
      "execution_count": 13,
      "outputs": [
        {
          "output_type": "stream",
          "name": "stdout",
          "text": [
            "0.75\n"
          ]
        }
      ]
    },
    {
      "cell_type": "code",
      "source": [
        "frac = float(input(\"Enter Fraction = \"))\n",
        "print(frac)\n"
      ],
      "metadata": {
        "colab": {
          "base_uri": "https://localhost:8080/"
        },
        "id": "A4fjE6J_nZAQ",
        "outputId": "12180df2-6ad4-40ed-f029-2e2604344c28"
      },
      "execution_count": 16,
      "outputs": [
        {
          "output_type": "stream",
          "name": "stdout",
          "text": [
            "Enter Fraction = 1.23\n",
            "1.23\n"
          ]
        }
      ]
    },
    {
      "cell_type": "markdown",
      "source": [
        "**Question**\n",
        "If you import sympy and define x as a variable, what would be the output from the following code?\n",
        "\n",
        "```\n",
        "example = 3*x - 12\n",
        "equation = Eq(example,0)\n",
        "solution = solve(equation,x)\n",
        "print(solution)\n",
        "```\n"
      ],
      "metadata": {
        "id": "vTF0-jSyoO2_"
      }
    },
    {
      "cell_type": "markdown",
      "source": [
        "Answer: [4]"
      ],
      "metadata": {
        "id": "wV0hr009o0OD"
      }
    },
    {
      "cell_type": "markdown",
      "source": [
        "Run this code to practice solving one-step and two-step problems. It will give you 12 practice problems. If you don't get them all correct, you can run this again to get more practice. Your answer can be a fraction, decimal, or whole number."
      ],
      "metadata": {
        "id": "2TfxOwU0o2bl"
      }
    },
    {
      "cell_type": "code",
      "source": [
        "# converts string input (even fractions) to float\n",
        "def string_frac(in_string):\n",
        "    if \"/\" in in_string:\n",
        "        nd = in_string.split(\"/\")\n",
        "        n = float(nd[0])\n",
        "        d = float(nd[1])\n",
        "        ans = n/d\n",
        "        return ans\n",
        "    else:\n",
        "        ans = float(in_string)\n",
        "        return ans\n",
        "\n",
        "\n",
        "# Simplest one-step addition\n",
        "def one_step_add():\n",
        "    import random\n",
        "    # Display problem\n",
        "    a = random.randint(-4,10)\n",
        "    b = random.randint(2,24)\n",
        "    print(\"x + \", a, \" = \", b)\n",
        "    ans = float(input(\"x = \"))\n",
        "    answer = b-a\n",
        "    # Test input\n",
        "    if ans==answer:\n",
        "        print(\"Correct! \\n\")\n",
        "    else:\n",
        "        print(\"Try again\")\n",
        "        print(\"The correct answer is \", answer, \"\\n\")\n",
        "\n",
        "\n",
        "# One-step additon with negaive numbers\n",
        "def one_step_subtract():\n",
        "    import random\n",
        "    a = random.randint(-19,-1)\n",
        "    b = random.randint(2,24)\n",
        "    print(a, \" + x = \", b)\n",
        "    ans = float(input(\"x = \"))\n",
        "    # test\n",
        "    answer = b-a\n",
        "    if ans==answer:\n",
        "        print(\"Correct! \\n\")\n",
        "    else:\n",
        "        print(\"Try again\")\n",
        "        print(\"The correct answer is \", answer, \"\\n\")\n",
        "\n",
        "# One-step multiply\n",
        "def one_step_mult():\n",
        "    # Uses string_frac(<input string>)\n",
        "    import random\n",
        "    a = random.randint(1,11)\n",
        "    b = random.randint(2,24)\n",
        "    print(a, \"x = \", b)\n",
        "    print(\"Round your answer to two decimal places.\")\n",
        "    ans_in = (input(\"x = \"))\n",
        "    answer = round(b/a,2)\n",
        "    # test\n",
        "    if string_frac(ans_in)==answer:\n",
        "        print(\"Correct! \\n\")\n",
        "    else:\n",
        "        print(\"Try again\")\n",
        "        print(\"The correct answer is \", answer, \"\\n\")\n",
        "\n",
        "\n",
        "# One-step divide\n",
        "def one_step_div():\n",
        "    import random\n",
        "    a = random.randint(1,11)\n",
        "    b = random.randint(2,24)\n",
        "    print(\"x/\", a, \" = \", b)\n",
        "    ans = float(input(\"x = \"))\n",
        "    answer = b*a\n",
        "    # test\n",
        "    if ans==answer:\n",
        "        print(\"Correct! \\n\")\n",
        "    else:\n",
        "        print(\"Try again\")\n",
        "        print(\"The correct answer is \", answer, \"\\n\")\n",
        "\n",
        "\n",
        "# Two-step problems\n",
        "def two_step():\n",
        "    import random\n",
        "    # Uses string_frac()\n",
        "    a = random.randint(1,11)\n",
        "    b = random.randint(-7,12)\n",
        "    c = random.randint(2,36)\n",
        "    print(a, \"x + \", b, \" = \", c)\n",
        "    print(\"Round answer to two decimal places\")\n",
        "    ans_in = input(\"x = \")\n",
        "    answer = (c-b)/a\n",
        "    # test\n",
        "    if round(string_frac(ans_in),2)==round(answer,2):\n",
        "        print(\"Correct! \\n\")\n",
        "    else:\n",
        "        print(\"Try again\")\n",
        "        print(\"The correct answer is \", answer, \"\\n\")\n",
        "\n",
        "\n",
        "# test loop\n",
        "for a in range(2):\n",
        "    one_step_add()\n",
        "    one_step_subtract()\n",
        "    one_step_mult()\n",
        "    one_step_div()\n",
        "    two_step()\n",
        "    print(\" \")\n",
        "\n",
        "two_step()\n",
        "two_step()\n"
      ],
      "metadata": {
        "colab": {
          "base_uri": "https://localhost:8080/"
        },
        "id": "aurkojJZo9xP",
        "outputId": "17694b2a-896f-457b-8448-d5516cd8a4ad"
      },
      "execution_count": 17,
      "outputs": [
        {
          "output_type": "stream",
          "name": "stdout",
          "text": [
            "x +  6  =  4\n",
            "x = -2\n",
            "Correct! \n",
            "\n",
            "-17  + x =  12\n",
            "x = 29\n",
            "Correct! \n",
            "\n",
            "3 x =  2\n",
            "Round your answer to two decimal places.\n",
            "x = .67\n",
            "Correct! \n",
            "\n",
            "x/ 4  =  22\n",
            "x = 5.50\n",
            "Try again\n",
            "The correct answer is  88 \n",
            "\n",
            "10 x +  9  =  14\n",
            "Round answer to two decimal places\n",
            "x = .50\n",
            "Correct! \n",
            "\n",
            " \n",
            "x +  -1  =  18\n",
            "x = 19\n",
            "Correct! \n",
            "\n",
            "-3  + x =  9\n",
            "x = 12\n",
            "Correct! \n",
            "\n",
            "1 x =  19\n",
            "Round your answer to two decimal places.\n",
            "x = 19.00\n",
            "Correct! \n",
            "\n",
            "x/ 3  =  10\n",
            "x = 3.33\n",
            "Try again\n",
            "The correct answer is  30 \n",
            "\n",
            "11 x +  9  =  6\n",
            "Round answer to two decimal places\n",
            "x = -.27\n",
            "Correct! \n",
            "\n",
            " \n",
            "7 x +  9  =  33\n",
            "Round answer to two decimal places\n",
            "x = 3.43\n",
            "Correct! \n",
            "\n",
            "10 x +  -3  =  36\n",
            "Round answer to two decimal places\n",
            "x = 3.90\n",
            "Correct! \n",
            "\n"
          ]
        }
      ]
    },
    {
      "cell_type": "markdown",
      "source": [
        "# **Converting Fractions and Decimals:**"
      ],
      "metadata": {
        "id": "NS-MEojap13d"
      }
    },
    {
      "cell_type": "markdown",
      "source": [
        "\n",
        "Positive and negative exponents:"
      ],
      "metadata": {
        "id": "htdTU9I0p-_m"
      }
    },
    {
      "cell_type": "code",
      "source": [
        "print(10**1)\n",
        "print(10**2)\n",
        "print(10**3)\n",
        "\n",
        "print(10**0)\n",
        "\n",
        "print(10**-1)\n",
        "print(10**-2)\n",
        "print(10**-3)\n"
      ],
      "metadata": {
        "colab": {
          "base_uri": "https://localhost:8080/"
        },
        "id": "Kn_AMFyYqNf8",
        "outputId": "90a9d742-4f61-48b1-dddc-19f1703b905d"
      },
      "execution_count": 18,
      "outputs": [
        {
          "output_type": "stream",
          "name": "stdout",
          "text": [
            "10\n",
            "100\n",
            "1000\n",
            "1\n",
            "0.1\n",
            "0.01\n",
            "0.001\n"
          ]
        }
      ]
    },
    {
      "cell_type": "markdown",
      "source": [
        "User input comes in as a string. You can find the length of the string:"
      ],
      "metadata": {
        "id": "EEV16IrLqQBQ"
      }
    },
    {
      "cell_type": "code",
      "source": [
        "text = input(\"Enter a number\")\n",
        "print(text)\n",
        "\n",
        "print(len(text))\n",
        "\n",
        "# error - can't do math here\n",
        "# print(text+3)\n"
      ],
      "metadata": {
        "colab": {
          "base_uri": "https://localhost:8080/"
        },
        "id": "F0jpbNS-qW36",
        "outputId": "4110f7a2-0bcd-4c13-f66f-9478f5e818db"
      },
      "execution_count": 19,
      "outputs": [
        {
          "output_type": "stream",
          "name": "stdout",
          "text": [
            "Enter a number21\n",
            "21\n",
            "2\n"
          ]
        }
      ]
    },
    {
      "cell_type": "markdown",
      "source": [
        "Cast input as a float or int variable:"
      ],
      "metadata": {
        "id": "2I7Sg9SMqbHk"
      }
    },
    {
      "cell_type": "code",
      "source": [
        "text = input(\"Enter a number\")\n",
        "num = float(text)\n",
        "print(num + 4)\n"
      ],
      "metadata": {
        "colab": {
          "base_uri": "https://localhost:8080/"
        },
        "id": "iL6hHBYaqhpT",
        "outputId": "32be7c63-aea0-4b2c-d48f-5b2ea577d264"
      },
      "execution_count": 20,
      "outputs": [
        {
          "output_type": "stream",
          "name": "stdout",
          "text": [
            "Enter a number17\n",
            "21.0\n"
          ]
        }
      ]
    },
    {
      "cell_type": "markdown",
      "source": [
        "Now put it all together:"
      ],
      "metadata": {
        "id": "9zY0253iqkTL"
      }
    },
    {
      "cell_type": "code",
      "source": [
        "\n",
        "# Get string input, which will include a decimal point\n",
        "digits = input(\"Enter a decimal number to convert: \")\n",
        "\n",
        "# Get number of decimal places as an integer\n",
        "exponent = int(len(digits))-1\n",
        "\n",
        "# Convert the input to a float number\n",
        "n = float(digits)\n",
        "\n",
        "# Use the exponent to get the numerator\n",
        "numerator = int(n * 10**exponent)\n",
        "\n",
        "# Use the expoent to get the denominator\n",
        "denominator = 10**exponent\n",
        "\n",
        "# percent is the first two decimal places\n",
        "percent = n * 100\n",
        "\n",
        "# Output\n",
        "print(\"The decimal is \", n)\n",
        "print(\"The fraction is \", numerator, \"/\", denominator)\n",
        "print(\"The percent is \", percent, \" %\")\n",
        "\n"
      ],
      "metadata": {
        "colab": {
          "base_uri": "https://localhost:8080/"
        },
        "id": "trqkzP6Wqs21",
        "outputId": "e4f697bc-d3c4-4853-aed7-ae9ab1c7b7b0"
      },
      "execution_count": 21,
      "outputs": [
        {
          "output_type": "stream",
          "name": "stdout",
          "text": [
            "Enter a decimal number to convert: 3.37\n",
            "The decimal is  3.37\n",
            "The fraction is  3370 / 1000\n",
            "The percent is  337.0  %\n"
          ]
        }
      ]
    },
    {
      "cell_type": "markdown",
      "source": [],
      "metadata": {
        "id": "P-he-9b5rG_g"
      }
    },
    {
      "cell_type": "markdown",
      "source": [
        "# **Proportions**"
      ],
      "metadata": {
        "id": "fb2y2RidklSR"
      }
    },
    {
      "cell_type": "markdown",
      "source": [
        "Set up a proportion:<br>\n",
        "$\\frac{n1}{d1}=\\frac{n2}{d2}$"
      ],
      "metadata": {
        "id": "v-0em0IOJeBX"
      }
    },
    {
      "cell_type": "code",
      "execution_count": 22,
      "metadata": {
        "id": "NipG5UbBJWVd",
        "colab": {
          "base_uri": "https://localhost:8080/"
        },
        "outputId": "66478c0e-a709-480d-8487-2fe85156730e"
      },
      "outputs": [
        {
          "output_type": "stream",
          "name": "stdout",
          "text": [
            "d2 =  8.0\n"
          ]
        }
      ],
      "source": [
        "# Put a zero in for the unknown value\n",
        "n1 = 1\n",
        "d1 = 2\n",
        "n2 = 4\n",
        "d2 = 0\n",
        "\n",
        "if n2==0:\n",
        "    answer = d2 * n1 / d1\n",
        "    print(\"n2 = \", answer)\n",
        "\n",
        "if d2==0:\n",
        "    answer = n2 * d1 / n1\n",
        "    print(\"d2 = \", answer)\n"
      ]
    },
    {
      "cell_type": "markdown",
      "source": [
        "# **Convert decimal to fraction and percent**"
      ],
      "metadata": {
        "id": "41GvsFSEj1M9"
      }
    },
    {
      "cell_type": "code",
      "execution_count": 23,
      "metadata": {
        "id": "pDaZckUyBKRl",
        "colab": {
          "base_uri": "https://localhost:8080/"
        },
        "outputId": "dc7ec698-0150-4bc8-b349-065635998c17"
      },
      "outputs": [
        {
          "output_type": "stream",
          "name": "stdout",
          "text": [
            "Enter a decimal number to convert: 6.58\n",
            "The decimal is  6.58\n",
            "The fraction is  6580 / 1000\n",
            "The percent is  658.0  %\n"
          ]
        }
      ],
      "source": [
        "\n",
        "# Get string input, which will include a decimal point\n",
        "digits = input(\"Enter a decimal number to convert: \")\n",
        "\n",
        "# Get number of decimal places as an integer\n",
        "exponent = int(len(digits))-1\n",
        "\n",
        "# Convert the input to a float number\n",
        "n = float(digits)\n",
        "\n",
        "# Use the exponent to get the numerator\n",
        "numerator = int(n * 10**exponent)\n",
        "\n",
        "# Use the expoent to get the denominator\n",
        "denominator = 10**exponent\n",
        "\n",
        "# percent is the first two decimal places\n",
        "percent = n * 100\n",
        "\n",
        "# Output\n",
        "print(\"The decimal is \", n)\n",
        "print(\"The fraction is \", numerator, \"/\", denominator)\n",
        "print(\"The percent is \", percent, \" %\")\n",
        "\n"
      ]
    },
    {
      "cell_type": "markdown",
      "source": [
        "# **Solve for x**"
      ],
      "metadata": {
        "id": "8j0cZS6MjNu6"
      }
    },
    {
      "cell_type": "code",
      "source": [
        "import sympy \n",
        "from sympy import symbols \n",
        "from sympy.solvers import solve \n",
        "\n",
        "x = symbols('x') \n",
        "\n",
        "eq = input('Enter equation: 0 = ')\n",
        "\n",
        "solution = solve(eq,x)\n",
        "for s in solution:\n",
        "    print(\"x = \", s)\n",
        "\n",
        "sympy.factor(eq)"
      ],
      "metadata": {
        "id": "JAvk-AYdFj0k",
        "colab": {
          "base_uri": "https://localhost:8080/",
          "height": 0
        },
        "outputId": "108e1392-1fd8-4d0e-b10f-9f2f7ca6edf3"
      },
      "execution_count": 24,
      "outputs": [
        {
          "output_type": "error",
          "ename": "KeyboardInterrupt",
          "evalue": "ignored",
          "traceback": [
            "\u001b[0;31m---------------------------------------------------------------------------\u001b[0m",
            "\u001b[0;31mKeyboardInterrupt\u001b[0m                         Traceback (most recent call last)",
            "\u001b[0;32m<ipython-input-24-ecc1160d5c5c>\u001b[0m in \u001b[0;36m<cell line: 7>\u001b[0;34m()\u001b[0m\n\u001b[1;32m      5\u001b[0m \u001b[0mx\u001b[0m \u001b[0;34m=\u001b[0m \u001b[0msymbols\u001b[0m\u001b[0;34m(\u001b[0m\u001b[0;34m'x'\u001b[0m\u001b[0;34m)\u001b[0m\u001b[0;34m\u001b[0m\u001b[0;34m\u001b[0m\u001b[0m\n\u001b[1;32m      6\u001b[0m \u001b[0;34m\u001b[0m\u001b[0m\n\u001b[0;32m----> 7\u001b[0;31m \u001b[0meq\u001b[0m \u001b[0;34m=\u001b[0m \u001b[0minput\u001b[0m\u001b[0;34m(\u001b[0m\u001b[0;34m'Enter equation: 0 = '\u001b[0m\u001b[0;34m)\u001b[0m\u001b[0;34m\u001b[0m\u001b[0;34m\u001b[0m\u001b[0m\n\u001b[0m\u001b[1;32m      8\u001b[0m \u001b[0;34m\u001b[0m\u001b[0m\n\u001b[1;32m      9\u001b[0m \u001b[0msolution\u001b[0m \u001b[0;34m=\u001b[0m \u001b[0msolve\u001b[0m\u001b[0;34m(\u001b[0m\u001b[0meq\u001b[0m\u001b[0;34m,\u001b[0m\u001b[0mx\u001b[0m\u001b[0;34m)\u001b[0m\u001b[0;34m\u001b[0m\u001b[0;34m\u001b[0m\u001b[0m\n",
            "\u001b[0;32m/usr/local/lib/python3.10/dist-packages/ipykernel/kernelbase.py\u001b[0m in \u001b[0;36mraw_input\u001b[0;34m(self, prompt)\u001b[0m\n\u001b[1;32m    849\u001b[0m                 \u001b[0;34m\"raw_input was called, but this frontend does not support input requests.\"\u001b[0m\u001b[0;34m\u001b[0m\u001b[0;34m\u001b[0m\u001b[0m\n\u001b[1;32m    850\u001b[0m             )\n\u001b[0;32m--> 851\u001b[0;31m         return self._input_request(str(prompt),\n\u001b[0m\u001b[1;32m    852\u001b[0m             \u001b[0mself\u001b[0m\u001b[0;34m.\u001b[0m\u001b[0m_parent_ident\u001b[0m\u001b[0;34m,\u001b[0m\u001b[0;34m\u001b[0m\u001b[0;34m\u001b[0m\u001b[0m\n\u001b[1;32m    853\u001b[0m             \u001b[0mself\u001b[0m\u001b[0;34m.\u001b[0m\u001b[0m_parent_header\u001b[0m\u001b[0;34m,\u001b[0m\u001b[0;34m\u001b[0m\u001b[0;34m\u001b[0m\u001b[0m\n",
            "\u001b[0;32m/usr/local/lib/python3.10/dist-packages/ipykernel/kernelbase.py\u001b[0m in \u001b[0;36m_input_request\u001b[0;34m(self, prompt, ident, parent, password)\u001b[0m\n\u001b[1;32m    893\u001b[0m             \u001b[0;32mexcept\u001b[0m \u001b[0mKeyboardInterrupt\u001b[0m\u001b[0;34m:\u001b[0m\u001b[0;34m\u001b[0m\u001b[0;34m\u001b[0m\u001b[0m\n\u001b[1;32m    894\u001b[0m                 \u001b[0;31m# re-raise KeyboardInterrupt, to truncate traceback\u001b[0m\u001b[0;34m\u001b[0m\u001b[0;34m\u001b[0m\u001b[0m\n\u001b[0;32m--> 895\u001b[0;31m                 \u001b[0;32mraise\u001b[0m \u001b[0mKeyboardInterrupt\u001b[0m\u001b[0;34m(\u001b[0m\u001b[0;34m\"Interrupted by user\"\u001b[0m\u001b[0;34m)\u001b[0m \u001b[0;32mfrom\u001b[0m \u001b[0;32mNone\u001b[0m\u001b[0;34m\u001b[0m\u001b[0;34m\u001b[0m\u001b[0m\n\u001b[0m\u001b[1;32m    896\u001b[0m             \u001b[0;32mexcept\u001b[0m \u001b[0mException\u001b[0m \u001b[0;32mas\u001b[0m \u001b[0me\u001b[0m\u001b[0;34m:\u001b[0m\u001b[0;34m\u001b[0m\u001b[0;34m\u001b[0m\u001b[0m\n\u001b[1;32m    897\u001b[0m                 \u001b[0mself\u001b[0m\u001b[0;34m.\u001b[0m\u001b[0mlog\u001b[0m\u001b[0;34m.\u001b[0m\u001b[0mwarning\u001b[0m\u001b[0;34m(\u001b[0m\u001b[0;34m\"Invalid Message:\"\u001b[0m\u001b[0;34m,\u001b[0m \u001b[0mexc_info\u001b[0m\u001b[0;34m=\u001b[0m\u001b[0;32mTrue\u001b[0m\u001b[0;34m)\u001b[0m\u001b[0;34m\u001b[0m\u001b[0;34m\u001b[0m\u001b[0m\n",
            "\u001b[0;31mKeyboardInterrupt\u001b[0m: Interrupted by user"
          ]
        }
      ]
    },
    {
      "cell_type": "markdown",
      "source": [
        "# **Factor an expression**"
      ],
      "metadata": {
        "id": "Q_IaJRyljdTE"
      }
    },
    {
      "cell_type": "code",
      "source": [
        "import sympy \n",
        "from sympy import *\n",
        "import math\n",
        "\n",
        "var('x y') \n",
        "\n",
        "# Equation to factor\n",
        "eq = x**3 - 2*x**2 - 5*x + 6 \n",
        "\n",
        "\n",
        "sympy.factor(eq)\n"
      ],
      "metadata": {
        "id": "2JjZ1cPNPqe8"
      },
      "execution_count": null,
      "outputs": []
    },
    {
      "cell_type": "markdown",
      "source": [
        "# **Solve for a variable**"
      ],
      "metadata": {
        "id": "dZG7pcprkUnX"
      }
    },
    {
      "cell_type": "code",
      "execution_count": 25,
      "metadata": {
        "id": "egdhbgMnYPYA",
        "colab": {
          "base_uri": "https://localhost:8080/"
        },
        "outputId": "6682fe92-86b2-423a-fd0b-49d57d105333"
      },
      "outputs": [
        {
          "output_type": "stream",
          "name": "stdout",
          "text": [
            "x  =  (-b - sqrt(-4*a*c + b**2))/(2*a)\n",
            "x  =  (-b + sqrt(-4*a*c + b**2))/(2*a)\n"
          ]
        }
      ],
      "source": [
        "from sympy import *\n",
        "import math\n",
        "\n",
        "# Identify all variables\n",
        "var('a b c d x') \n",
        "\n",
        "# Left and right sides of the equal sign\n",
        "left = 0\n",
        "right = a*x**2 + b*x + c\n",
        "\n",
        "# Variable to solve for\n",
        "variable = x\n",
        "\n",
        "# Sympy equation left = right\n",
        "eq1 = Eq(left,right) \n",
        "\n",
        "# Sympy solve for that variable\n",
        "sol = solve(eq1,variable) \n",
        "\n",
        "# Show factored results\n",
        "for s in sol:\n",
        "    print(variable, \" = \", s)\n"
      ]
    },
    {
      "cell_type": "markdown",
      "source": [
        "# **Slope-intercept equation from two points**"
      ],
      "metadata": {
        "id": "mxoIcmIluaKf"
      }
    },
    {
      "cell_type": "code",
      "source": [
        "import matplotlib.pyplot as plt\n",
        "import numpy as np\n",
        "\n",
        "x1 = 0\n",
        "y1 = 32\n",
        "x2 = 100\n",
        "y2 = 212\n",
        "\n",
        "# Develop the equation y = mx + b\n",
        "m = (y2 - y1) / (x2 - x1)\n",
        "b = y1 - m*x1\n",
        "print(\"y = \", m, \"x + \", b)\n",
        "\n",
        "# For the graph\n",
        "xmin = 0\n",
        "xmax = 10\n",
        "ymin = 0\n",
        "ymax = 500\n",
        "\n",
        "# For the line on the graph\n",
        "y3 = m*xmin + b \n",
        "y4 = m*xmax + b \n",
        "\n",
        "# Basic setup for the graph\n",
        "fig, ax = plt.subplots()\n",
        "plt.axis([xmin,xmax,ymin,ymax]) # window size\n",
        "plt.plot([xmin,xmax],[0,0],'b') # blue x axis\n",
        "plt.plot([0,0],[ymin,ymax], 'b') # blue y axis\n",
        "\n",
        "# Add details to the graph\n",
        "ax.set_xlabel(\"x values\")\n",
        "ax.set_ylabel(\"y values\")\n",
        "ax.grid(True)\n",
        "#ax.set_xticks(np.arange(xmin, xmax, 2))\n",
        "#ax.set_yticks(np.arange(ymin, ymax, 1))\n",
        "\n",
        "\n",
        "# Plot the linear function as a red line\n",
        "plt.plot([xmin,xmax],[y3,y4],'r')\n",
        "\n",
        "plt.show()\n"
      ],
      "metadata": {
        "id": "ngy3aRPTubfh",
        "colab": {
          "base_uri": "https://localhost:8080/",
          "height": 472
        },
        "outputId": "66447906-0c63-48fe-aebb-466fbcd6a382"
      },
      "execution_count": 26,
      "outputs": [
        {
          "output_type": "stream",
          "name": "stdout",
          "text": [
            "y =  1.8 x +  32.0\n"
          ]
        },
        {
          "output_type": "display_data",
          "data": {
            "text/plain": [
              "<Figure size 640x480 with 1 Axes>"
            ],
            "image/png": "[encoded data removed]"
          },
          "metadata": {}
        }
      ]
    },
    {
      "cell_type": "markdown",
      "source": [
        "# **Graph lines and zoom in or out**"
      ],
      "metadata": {
        "id": "2I_BZns2rlKf"
      }
    },
    {
      "cell_type": "code",
      "source": [
        "%matplotlib inline\n",
        "from ipywidgets import interactive\n",
        "import matplotlib.pyplot as plt\n",
        "import numpy as np\n",
        "\n",
        "# Define the graphing function\n",
        "def f(zoom):\n",
        "    xmin = -zoom\n",
        "    xmax = zoom\n",
        "    ymin = -zoom\n",
        "    ymax = zoom\n",
        "    points = 10*xmax-xmin\n",
        "    x = np.linspace(xmin, xmax, points)\n",
        "\n",
        "    fig, ax = plt.subplots()\n",
        "    plt.axis([xmin,xmax,ymin,ymax]) # window size\n",
        "    plt.plot([xmin,xmax],[0,0],'black') # black x axis\n",
        "    plt.plot([0,0],[ymin,ymax], 'black') # black y axis\n",
        "    \n",
        "    # Change y1 to be any function\n",
        "    y1 = 3*x\n",
        "    plt.plot(x, y1)\n",
        "    # Plot another line here if you want\n",
        "    # y2 = \n",
        "    # plt.plot(x, y2)    \n",
        "    \n",
        "    ax.set_xlabel(\"x values\")\n",
        "    ax.set_ylabel(\"y values\")\n",
        "    ax.set_title(\"Some Graph\")\n",
        "    ticks = int(round((xmax-xmin)/10))\n",
        "    ax.set_xticks(np.arange(xmin, xmax, ticks))\n",
        "    ax.set_yticks(np.arange(ymin, ymax, ticks))\n",
        "    ax.grid(True)\n",
        "    plt.show()\n",
        "\n",
        "# Set up the slider\n",
        "interactive_plot = interactive(f, zoom=(1,100))\n",
        "interactive_plot\n"
      ],
      "metadata": {
        "id": "NnSlIKqKhRM-",
        "colab": {
          "base_uri": "https://localhost:8080/",
          "height": 504,
          "referenced_widgets": [
            "2f0bbdc51a09440a8c0faeecc2e63962",
            "4ed31e5329f04834b972b8831a809001",
            "7582fcc62ef142c0b6b8743cd869648c",
            "03214f02bc424d10b7d0c2d5095c6eac",
            "301d72d4658e4508b9cdf0243377db53",
            "ca9106f2983b4f7db8b280aa77346035",
            "f51a290acbf845f6a1f1a80cd713f444"
          ]
        },
        "outputId": "d1bfeea3-94e3-442d-a814-ba62d7c550e6"
      },
      "execution_count": 38,
      "outputs": [
        {
          "output_type": "display_data",
          "data": {
            "text/plain": [
              "interactive(children=(IntSlider(value=50, description='zoom', min=1), Output()), _dom_classes=('widget-interac…"
            ],
            "application/vnd.jupyter.widget-view+json": {
              "version_major": 2,
              "version_minor": 0,
              "model_id": "2f0bbdc51a09440a8c0faeecc2e63962"
            }
          },
          "metadata": {}
        }
      ]
    },
    {
      "cell_type": "markdown",
      "source": [
        "# **Solve and graph a system equations**"
      ],
      "metadata": {
        "id": "6Xy0i5lMmo_J"
      }
    },
    {
      "cell_type": "code",
      "source": [
        "from sympy import *\n",
        "from sympy.plotting import plot\n",
        "from sympy import sqrt\n",
        "\n",
        "var('x y') \n",
        "\n",
        "# First equation set equal to zero, ready to solve\n",
        "first = \n",
        "\n",
        "\n",
        "# Second equation set equal to zero, ready to solve\n",
        "second = \n",
        "\n",
        "\n",
        "# Solve - can be linear or nonlinear equations\n",
        "solution = nonlinsolve([first, second], (x, y)) \n",
        "for a in range(len(solution.args)):\n",
        "    x_solution = solution.args[a][0] \n",
        "    y_solution = solution.args[a][1] \n",
        "    print(\"Solution = (\", x_solution, \",\", y_solution, \")\")\n",
        "\n",
        "# Sympy syntax for equation equal to zero, ready to factor\n",
        "y_first = Eq(first,0) \n",
        "\n",
        "# Sympy solve for y\n",
        "y1 = solve(y_first,y) \n",
        "\n",
        "# Same two steps for second equation\n",
        "y_second = Eq(second,0) \n",
        "y2 = solve(y_second,y)\n",
        "\n",
        "# Show factored results\n",
        "print(\"y = \", y1[0])\n",
        "print(\"y = \", y2[0])\n",
        "\n",
        "# Plot solution\n",
        "x = symbols('x')\n",
        "xmin = -10\n",
        "xmax = 10\n",
        "plot(y1[0], y2[0], (x,xmin,xmax))  \n",
        "\n"
      ],
      "metadata": {
        "id": "E4JCVuUKjluH"
      },
      "execution_count": null,
      "outputs": []
    },
    {
      "cell_type": "code",
      "source": [],
      "metadata": {
        "id": "NCFmkX2Oqki_"
      },
      "execution_count": null,
      "outputs": []
    },
    {
      "cell_type": "markdown",
      "source": [
        "# **Save graph and download image**"
      ],
      "metadata": {
        "id": "D-x0JNFCdgNi"
      }
    },
    {
      "cell_type": "code",
      "source": [
        "# use this when graphing\n",
        "\n",
        "from google.colab import files\n",
        "\n",
        "# to save and output graph\n",
        "plt.savefig(\"abc.png\")\n",
        "plt.show()\n",
        "files.download(\"abc.png\") \n"
      ],
      "metadata": {
        "id": "g-uQ5QdPG4FR",
        "colab": {
          "base_uri": "https://localhost:8080/",
          "height": 34
        },
        "outputId": "6860b178-17f5-4caf-ac07-ad57f1dca287"
      },
      "execution_count": 30,
      "outputs": [
        {
          "output_type": "display_data",
          "data": {
            "text/plain": [
              "<Figure size 640x480 with 0 Axes>"
            ]
          },
          "metadata": {}
        },
        {
          "output_type": "display_data",
          "data": {
            "text/plain": [
              "<IPython.core.display.Javascript object>"
            ],
            "application/javascript": [
              "\n",
              "    async function download(id, filename, size) {\n",
              "      if (!google.colab.kernel.accessAllowed) {\n",
              "        return;\n",
              "      }\n",
              "      const div = document.createElement('div');\n",
              "      const label = document.createElement('label');\n",
              "      label.textContent = `Downloading \"${filename}\": `;\n",
              "      div.appendChild(label);\n",
              "      const progress = document.createElement('progress');\n",
              "      progress.max = size;\n",
              "      div.appendChild(progress);\n",
              "      document.body.appendChild(div);\n",
              "\n",
              "      const buffers = [];\n",
              "      let downloaded = 0;\n",
              "\n",
              "      const channel = await google.colab.kernel.comms.open(id);\n",
              "      // Send a message to notify the kernel that we're ready.\n",
              "      channel.send({})\n",
              "\n",
              "      for await (const message of channel.messages) {\n",
              "        // Send a message to notify the kernel that we're ready.\n",
              "        channel.send({})\n",
              "        if (message.buffers) {\n",
              "          for (const buffer of message.buffers) {\n",
              "            buffers.push(buffer);\n",
              "            downloaded += buffer.byteLength;\n",
              "            progress.value = downloaded;\n",
              "          }\n",
              "        }\n",
              "      }\n",
              "      const blob = new Blob(buffers, {type: 'application/binary'});\n",
              "      const a = document.createElement('a');\n",
              "      a.href = window.URL.createObjectURL(blob);\n",
              "      a.download = filename;\n",
              "      div.appendChild(a);\n",
              "      a.click();\n",
              "      div.remove();\n",
              "    }\n",
              "  "
            ]
          },
          "metadata": {}
        },
        {
          "output_type": "display_data",
          "data": {
            "text/plain": [
              "<IPython.core.display.Javascript object>"
            ],
            "application/javascript": [
              "download(\"download_15d815db-886a-4376-bb28-e8b8a00dfa7f\", \"abc.png\", 2396)"
            ]
          },
          "metadata": {}
        }
      ]
    },
    {
      "cell_type": "markdown",
      "source": [
        "# **Quadratic Functions - roots, vertext, graph**"
      ],
      "metadata": {
        "id": "uw0zwudGBErL"
      }
    },
    {
      "cell_type": "code",
      "source": [
        "import matplotlib.pyplot as plt\n",
        "import numpy as np\n",
        "import math\n",
        "\n",
        "# Define the three coefficients here\n",
        "a = 1\n",
        "b = 5\n",
        "c = 6\n",
        "\n",
        "print(\"y = \", a, \"x**2 + \", b, \"x + \", c) \n",
        "\n",
        "# Vertex\n",
        "vx = -b/(2*a) \n",
        "vy = a*(vx**2) + b*vx + c \n",
        "print(\"Vertex: (\",vx,\",\",vy,\")\")\n",
        "\n",
        "# Roots\n",
        "d = b**2 - 4*a*c \n",
        "if d>=0: \n",
        "    root_1 = (-b + math.sqrt(d))/(2*a) \n",
        "    root_2 = (-b - math.sqrt(d))/(2*a) \n",
        "    print(\"Roots: x = \", root_1, \" and x = \", root_2)\n",
        "else:\n",
        "    print(\"No real roots\")\n",
        "\n",
        "xmin = -10\n",
        "xmax = 10\n",
        "ymin = -10\n",
        "ymax = 10\n",
        "points = 10*(xmax-xmin)\n",
        "x = np.linspace(xmin,xmax,points) \n",
        "\n",
        "fig, ax = plt.subplots()\n",
        "plt.axis([xmin,xmax,ymin,ymax]) # window size\n",
        "plt.plot([xmin,xmax],[0,0],'b') # blue x axis\n",
        "plt.plot([0,0],[ymin,ymax], 'b') # blue y axis\n",
        "\n",
        "# Graph the parabola\n",
        "y1 = a*x**2 + b*x + c \n",
        "plt.plot(x, y1) \n",
        "\n",
        "# Plot the vertex\n",
        "plt.plot([vx],[vy], 'ro') \n",
        "\n",
        "# Plot the roots\n",
        "plt.plot([root_1, root_2],[0,0], 'go') \n",
        "\n",
        "plt.show() \n"
      ],
      "metadata": {
        "id": "PSEoAi4jBJRM",
        "colab": {
          "base_uri": "https://localhost:8080/",
          "height": 487
        },
        "outputId": "020e2268-af3c-4ff0-999c-e67ff11c46f5"
      },
      "execution_count": 31,
      "outputs": [
        {
          "output_type": "stream",
          "name": "stdout",
          "text": [
            "y =  1 x**2 +  5 x +  6\n",
            "Vertex: ( -2.5 , -0.25 )\n",
            "Roots: x =  -2.0  and x =  -3.0\n"
          ]
        },
        {
          "output_type": "display_data",
          "data": {
            "text/plain": [
              "<Figure size 640x480 with 1 Axes>"
            ],
            "image/png": "[encoded data removed]"
          },
          "metadata": {}
        }
      ]
    },
    {
      "cell_type": "markdown",
      "source": [
        "# **Quadratic graph with sliders**"
      ],
      "metadata": {
        "id": "piYnaYfUHSUb"
      }
    },
    {
      "cell_type": "code",
      "source": [
        "%matplotlib inline\n",
        "from ipywidgets import interactive\n",
        "import matplotlib.pyplot as plt\n",
        "import numpy as np\n",
        "import math\n",
        "\n",
        "# All graphing happens in this function\n",
        "def f(a,b,c):\n",
        "    xmin = -10\n",
        "    xmax = 10\n",
        "    ymin = -10\n",
        "    ymax = 10\n",
        "    points = 10*(xmax-xmin)\n",
        "    x = np.linspace(xmin,xmax,points)\n",
        "\n",
        "    plt.axis([xmin,xmax,ymin,ymax]) # window size\n",
        "    plt.plot([xmin,xmax],[0,0],'b') # x axis\n",
        "    plt.plot([0,0],[ymin,ymax], 'b') # y axis\n",
        "\n",
        "    # Parabola\n",
        "    y1 = a*x**2 + b*x + c \n",
        "    plt.plot(x, y1) \n",
        "\n",
        "    # Vertex\n",
        "    vx = -b/(2*a) \n",
        "    vy = a*(vx**2) + b*vx + c \n",
        "    plt.plot([vx],[vy], 'ro') \n",
        "\n",
        "    # Roots\n",
        "    d = b**2 - 4*a*c \n",
        "    if d>=0: \n",
        "        root_1 = (-b + math.sqrt(d))/(2*a) \n",
        "        root_2 = (-b - math.sqrt(d))/(2*a) \n",
        "        plt.plot([root_1, root_2],[0,0], 'go') \n",
        "    \n",
        "    # Set the equation as the title\n",
        "    sa = str(a)\n",
        "    sb = str(b)\n",
        "    sc = str(c)\n",
        "    h1 = \"y = \", sa, \"x**2 + \", sb, \"x + \", sc\n",
        "    h2 = \"\"\n",
        "    for w in h1:\n",
        "        h2 = h2 + w\n",
        "\n",
        "    plt.title(h2)\n",
        "    plt.show()\n",
        "\n",
        "# Interactive creates sliders for a, b, and c values\n",
        "interactive_plot = interactive(f, a=(1, 9), b=(-9,9), c=(-9,9))\n",
        "interactive_plot\n",
        "\n"
      ],
      "metadata": {
        "id": "ZXI9liy5HV4O",
        "colab": {
          "base_uri": "https://localhost:8080/",
          "height": 548,
          "referenced_widgets": [
            "e30605b9400c4e2ea2a2445f08a22b26",
            "0a7399df15504d2997b92ccb1f639930",
            "002a1c6419554c1c9336b3ae8cc11b87",
            "07dcc0a1ae9347d7bfb0d2db553719de",
            "8a5a2d39180b428d85c957e434a2549d",
            "dee8ddf77c254bcda54ed81454cdd0ea",
            "c35df73fce86475ebc338a63a8028994",
            "fde1ce3bc8764cea9d94380d98d9a5f0",
            "3e1b289348244ec29a4d8da14c1c0061",
            "dcbec5bfaf2f4a32b987749978b77c02",
            "f73773cd8f9445c6a2c4d3681d8d5a3d",
            "5073a3b0a5b944e4a3a9552d730203af",
            "200f02a9610f4696a05bff18071425cd"
          ]
        },
        "outputId": "4d93f60d-e76d-4bf4-b61f-b1f5333adbe0"
      },
      "execution_count": 32,
      "outputs": [
        {
          "output_type": "display_data",
          "data": {
            "text/plain": [
              "interactive(children=(IntSlider(value=5, description='a', max=9, min=1), IntSlider(value=0, description='b', m…"
            ],
            "application/vnd.jupyter.widget-view+json": {
              "version_major": 2,
              "version_minor": 0,
              "model_id": "e30605b9400c4e2ea2a2445f08a22b26"
            }
          },
          "metadata": {}
        }
      ]
    },
    {
      "cell_type": "markdown",
      "source": [
        "# **Parent graphs**"
      ],
      "metadata": {
        "id": "5KBLd5tcH0Tv"
      }
    },
    {
      "cell_type": "markdown",
      "source": [
        "Notice that Python already includes some math functions, and some functions require you to `import numpy as np` to solve or graph them.<p>\n",
        "<table>\n",
        "<tr><td>Math notation</td><td> Python notation </td></tr>\n",
        "<tr><td> y = x</td><td> y = x</td></tr>\n",
        "<tr><td> y = x<sup>2</sup></td><td> y = x**2 </td></tr>\n",
        "<tr><td> y = x<sup>3</sup></td><td> y = x**3 </td></tr>\n",
        "<tr><td> y = |x|</td><td> y = abs(x) </td></tr>\n",
        "<tr><td> y =  $\\sqrt{x}$</td><td> y = np.sqrt(x) </td></tr>\n",
        "<tr><td> y = x<sup>1/3</sup></td><td> y = np.cbrt(x) </td></tr>\n",
        "<tr><td> y = $\\lfloor x \\rfloor$</td><td> y = np.floor(x) </td></tr>\n",
        "<tr><td> y = 2<sup>x</sup></td><td> y = 2**x </td></tr>\n",
        "<tr><td> y = e<sup>x</sup></td><td> y = math.e**2 </td></tr>\n",
        "<tr><td> y = ln(x)</td><td> y = np.log(x) </td></tr>\n",
        "<tr><td> y = log<sub>2</sub>(x)</td><td> y = np.log2(x) </td></tr>\n",
        "<tr><td> y = log(x)</td><td> y = np.log10(x) </td></tr>"
      ],
      "metadata": {
        "id": "9kC2WgK5H53R"
      }
    },
    {
      "cell_type": "markdown",
      "source": [
        "# **Compound interest calculator**\n",
        "\n"
      ],
      "metadata": {
        "id": "jwmoBnzCl_33"
      }
    },
    {
      "cell_type": "markdown",
      "source": [
        "When the compunding happens <i>n</i> times per year:<br>\n",
        "Annuity = P(1 +  $\\frac{r}{n})^{nt}$<p>\n",
        "When the growth is continuous: <br>\n",
        "Annuity = Pe<sup>rt</sup>"
      ],
      "metadata": {
        "id": "Azavu_4iBfOy"
      }
    },
    {
      "cell_type": "code",
      "source": [
        "import math\n",
        "\n",
        "# Change these variables\n",
        "p = 1\n",
        "r = .01\n",
        "t = 1\n",
        "n = 1\n",
        "\n",
        "n_times = p*(1+(r/n))**(n*t)\n",
        "continuous = p*math.e**(r*t)\n",
        "\n",
        "print(\"Annuity when compounded \", n, \" times per year = \", n_times)\n",
        "print(\"Annuity when compounded continuously = \", continuous)\n",
        "\n"
      ],
      "metadata": {
        "id": "J4HK9Vo_jsKG",
        "colab": {
          "base_uri": "https://localhost:8080/"
        },
        "outputId": "c4527b8f-920c-43b7-d3a9-0f8a6c87e458"
      },
      "execution_count": 33,
      "outputs": [
        {
          "output_type": "stream",
          "name": "stdout",
          "text": [
            "Annuity when compounded  1  times per year =  1.01\n",
            "Annuity when compounded continuously =  1.010050167084168\n"
          ]
        }
      ]
    },
    {
      "cell_type": "markdown",
      "source": [
        "# **Investment annuity estimator**\n",
        "\n"
      ],
      "metadata": {
        "id": "kRoj56Y5jlJP"
      }
    },
    {
      "cell_type": "markdown",
      "source": [
        "Calculte the value in a retirement account, given regular monthly contributions and an estimated rate of increase"
      ],
      "metadata": {
        "id": "0wLqHasmBnm1"
      }
    },
    {
      "cell_type": "code",
      "source": [
        "# Change these variables\n",
        "p = 1000\n",
        "r = .08\n",
        "t = 38\n",
        "monthly = 350\n",
        "\n",
        "# The loop will update this variable\n",
        "annuity = p\n",
        "\n",
        "# loop for contribution and percent growth\n",
        "for a in range(12*t):\n",
        "    annuity = (annuity+monthly)*(1+(r/12))\n",
        "\n",
        "print(\"annuity = \", round(annuity, 2))\n",
        "print(\"Annual income from interest = \", round(annuity*r, 2))\n"
      ],
      "metadata": {
        "id": "7TopuYcfmPCp",
        "colab": {
          "base_uri": "https://localhost:8080/"
        },
        "outputId": "2ed874b3-d692-4684-8735-fe14641f5808"
      },
      "execution_count": 34,
      "outputs": [
        {
          "output_type": "stream",
          "name": "stdout",
          "text": [
            "annuity =  1061597.32\n",
            "Annual income from interest =  84927.79\n"
          ]
        }
      ]
    },
    {
      "cell_type": "markdown",
      "source": [
        "# **Mortgage payment calculator**\n"
      ],
      "metadata": {
        "id": "-80VOHy7je5N"
      }
    },
    {
      "cell_type": "markdown",
      "source": [
        "Mortgage payment formula:<p>\n",
        "monthly payment = P$\\frac{\\frac{r}{12}(1 + \\frac{r}{12})^{12t}}{(1 + \\frac{r}{12})^{12t} - 1}$ \n"
      ],
      "metadata": {
        "id": "6DPNJR5qByPE"
      }
    },
    {
      "cell_type": "code",
      "source": [
        "# Change these values\n",
        "p = 240000\n",
        "r = .055\n",
        "t = 30\n",
        "\n",
        "# Break down that formula into parts\n",
        "numerator = (r/12)*(1+(r/12))**(12*t) \n",
        "denominator = (1+(r/12))**(12*t) - 1 \n",
        "payment = round(p*numerator/denominator, 2)\n",
        "\n",
        "print(\"monthly payment = \", payment)"
      ],
      "metadata": {
        "id": "MlBJG8kxjiug",
        "colab": {
          "base_uri": "https://localhost:8080/"
        },
        "outputId": "81c966be-6d4e-435b-e554-49464bb7521a"
      },
      "execution_count": 35,
      "outputs": [
        {
          "output_type": "stream",
          "name": "stdout",
          "text": [
            "monthly payment =  1362.69\n"
          ]
        }
      ]
    },
    {
      "cell_type": "markdown",
      "source": [
        "# **Graphing data from a table**"
      ],
      "metadata": {
        "id": "VnDUk4x7mTi7"
      }
    },
    {
      "cell_type": "markdown",
      "source": [
        "This code will give you the imports you need, and you will see several ways to get a .csv file from other sources. comment out the code you don't need. Run this once, then you can run the next code cell several times."
      ],
      "metadata": {
        "id": "QrhrLlFFNij7"
      }
    },
    {
      "cell_type": "code",
      "source": [
        "import pandas as pd\n",
        "import matplotlib.pyplot as plt\n",
        "from google.colab import files\n",
        "import io\n",
        "\n",
        "# dialog to upload from computer:\n",
        "# uploaded = files.upload()\n",
        "# file_name = next(iter(uploaded))\n",
        "# table_1 = pd.read_csv(io.BytesIO(uploaded[file_name]))\n",
        "\n",
        "# example url:\n",
        "url = \"https://people.sc.fsu.edu/~jburkardt/data/csv/faithful.csv\"\n",
        "\n",
        "# Dialog to input a url\n",
        "# url = input(\"URL of the csv: \")\n",
        "table_1 = pd.read_csv(url)\n",
        "\n"
      ],
      "metadata": {
        "id": "Z8L5PwALNlZc"
      },
      "execution_count": 36,
      "outputs": []
    },
    {
      "cell_type": "markdown",
      "source": [
        "This code will grab data from columns in a table and convert them to arrays to graph. This example uses data related to the Old Fatithful geyser. Run this, modify it, and look for patterns."
      ],
      "metadata": {
        "id": "N_mXRMeZPimV"
      }
    },
    {
      "cell_type": "code",
      "source": [
        "# Get the headers\n",
        "print(table_1.head())\n",
        "\n",
        "# Describe is also a good feature\n",
        "# table_1[' \"Eruption length (mins)\"'].describe()\n",
        "# table_1['Index'].describe()\n",
        "\n",
        "# Convert values to numpy arrays to graph\n",
        "x = table_1['Index'].to_numpy()\n",
        "y = table_1[' \"Eruption length (mins)\"'].to_numpy()\n",
        "\n",
        "# Graph dimensions\n",
        "xmin = x.min() - 5\n",
        "xmax = x.max() + 5\n",
        "ymin = y.min() - 5\n",
        "ymax = y.max() + 5\n",
        "\n",
        "fig, ax = plt.subplots()\n",
        "plt.axis([xmin,xmax,ymin,ymax]) # window size\n",
        "plt.plot([xmin,xmax],[0,0],'b') # blue x axis\n",
        "plt.plot([0,0],[ymin,ymax], 'b') # blue y axis\n",
        "plt.plot(x,y,'ro') # make it scatterplot or line graph\n",
        "plt.show()\n"
      ],
      "metadata": {
        "id": "3ngt284BPqOV",
        "colab": {
          "base_uri": "https://localhost:8080/",
          "height": 537
        },
        "outputId": "72880d70-c402-4ad4-d885-8e3e6db4c06d"
      },
      "execution_count": 37,
      "outputs": [
        {
          "output_type": "stream",
          "name": "stdout",
          "text": [
            "   Index   \"Eruption length (mins)\"  Eruption wait (mins)\n",
            "0      1                      3.600                    79\n",
            "1      2                      1.800                    54\n",
            "2      3                      3.333                    74\n",
            "3      4                      2.283                    62\n",
            "4      5                      4.533                    85\n"
          ]
        },
        {
          "output_type": "display_data",
          "data": {
            "text/plain": [
              "<Figure size 640x480 with 1 Axes>"
            ],
            "image/png": "[encoded data removed]"
          },
          "metadata": {}
        }
      ]
    },
    {
      "cell_type": "markdown",
      "source": [
        "# **Add your own formulas**\n",
        "\n"
      ],
      "metadata": {
        "id": "4qWvtvxzFtaZ"
      }
    },
    {
      "cell_type": "markdown",
      "source": [
        "## Euler's Identity:\n",
        "Euler's identity is a remarkable equation in mathematics that relates five fundamental constants: $e$ (Euler's number), $π$ (pi), $i$ (imaginary unit), $0$ (additive identity), and $1$ (multiplicative identity). It is expressed as:\n",
        "\n",
        "$e^{(iπ)} + 1 = 0$"
      ],
      "metadata": {
        "id": "1M97NqTyu-Vz"
      }
    },
    {
      "cell_type": "markdown",
      "source": [
        "## Compound Interest Formula:\n",
        "The formula for calculating the compound interest on an initial principal amount $P$, with an annual interest rate $r$, compounded annually for a time period $t$, is given by:\n",
        "\n",
        "$A = P(1 + r)^{t}$\n",
        "\n",
        "Where A is the final amount including interest."
      ],
      "metadata": {
        "id": "UCSPZoekvGEk"
      }
    },
    {
      "cell_type": "markdown",
      "source": [
        "## Area of a Circle:\n",
        "The formula to calculate the area of a circle with radius $r$ is:\n",
        "\n",
        "$A = πr^{2}$"
      ],
      "metadata": {
        "id": "GqmajNnKva4_"
      }
    },
    {
      "cell_type": "markdown",
      "source": [
        "## Quadratic Formula:\n",
        "The quadratic formula is used to find the solutions of a quadratic equation of the form $ax^{2} + bx + c = 0$, where $a, b,$ and $c$ are coefficients. The formula is given by:\n",
        "\n",
        "$x=\\frac{-b\\pm\\sqrt{b^2-4ac}}{2a}$"
      ],
      "metadata": {
        "id": "Md4SnmlBvj1x"
      }
    },
    {
      "cell_type": "markdown",
      "source": [
        "# **Functions and Graphing:**"
      ],
      "metadata": {
        "id": "reYdcb_KzONH"
      }
    },
    {
      "cell_type": "markdown",
      "source": [
        "Function and a table of (x,y) values"
      ],
      "metadata": {
        "id": "EJWEoaa46XM6"
      }
    },
    {
      "cell_type": "code",
      "source": [
        "x = 5\n",
        "y = 4*x + 3 # The function \n",
        "\n",
        "print(x,\",\",y)\n",
        "\n",
        "print(\"x \\t y\") \n",
        "\n",
        "for x in range(11):\n",
        "    y = 4*x + 3  # The function\n",
        "    print(x, \"\\t\", y)\n",
        "\n"
      ],
      "metadata": {
        "id": "CgYgZ_bX6V24",
        "colab": {
          "base_uri": "https://localhost:8080/"
        },
        "outputId": "a84e2872-4f69-4a4a-e105-8c370fe34751"
      },
      "execution_count": 39,
      "outputs": [
        {
          "output_type": "stream",
          "name": "stdout",
          "text": [
            "5 , 23\n",
            "x \t y\n",
            "0 \t 3\n",
            "1 \t 7\n",
            "2 \t 11\n",
            "3 \t 15\n",
            "4 \t 19\n",
            "5 \t 23\n",
            "6 \t 27\n",
            "7 \t 31\n",
            "8 \t 35\n",
            "9 \t 39\n",
            "10 \t 43\n"
          ]
        }
      ]
    },
    {
      "cell_type": "markdown",
      "source": [
        "Defning a Python function"
      ],
      "metadata": {
        "id": "ngdxkyY5sj79"
      }
    },
    {
      "cell_type": "code",
      "source": [
        "def f(x):\n",
        "   y = 4*x + 3\n",
        "   return y\n",
        "\n",
        "print(5, \",\", f(5)) \n",
        "\n",
        "# Next, a loop\n",
        "for x in range(11):\n",
        "    print(x, \"\\t\", f(x)) "
      ],
      "metadata": {
        "id": "pimaql3Wsnkz",
        "colab": {
          "base_uri": "https://localhost:8080/"
        },
        "outputId": "8dcdb63f-8729-4893-9aee-b12f3fcb7023"
      },
      "execution_count": 40,
      "outputs": [
        {
          "output_type": "stream",
          "name": "stdout",
          "text": [
            "5 , 23\n",
            "0 \t 3\n",
            "1 \t 7\n",
            "2 \t 11\n",
            "3 \t 15\n",
            "4 \t 19\n",
            "5 \t 23\n",
            "6 \t 27\n",
            "7 \t 31\n",
            "8 \t 35\n",
            "9 \t 39\n",
            "10 \t 43\n"
          ]
        }
      ]
    },
    {
      "cell_type": "markdown",
      "source": [
        "<br>\n",
        "<br>\n",
        "<br>\n",
        "Next we will look a graphing functions...\n",
        "<br>\n",
        "<br>\n",
        "<br>"
      ],
      "metadata": {
        "id": "qnLORdwYqzzB"
      }
    },
    {
      "cell_type": "markdown",
      "source": [
        "Basic blank graph"
      ],
      "metadata": {
        "id": "rYuehQvzp_uq"
      }
    },
    {
      "cell_type": "code",
      "execution_count": 41,
      "metadata": {
        "id": "f99FK6TVpM9d",
        "colab": {
          "base_uri": "https://localhost:8080/",
          "height": 435
        },
        "outputId": "8e527a51-e12f-4d29-f455-dd5bad45f9bc"
      },
      "outputs": [
        {
          "output_type": "display_data",
          "data": {
            "text/plain": [
              "<Figure size 640x480 with 1 Axes>"
            ],
            "image/png": "[encoded data removed]"
          },
          "metadata": {}
        }
      ],
      "source": [
        "import matplotlib.pyplot as plt\n",
        "\n",
        "fig, ax = plt.subplots()\n",
        "plt.show()\n"
      ]
    },
    {
      "cell_type": "markdown",
      "source": [
        "Define dimensions of graph"
      ],
      "metadata": {
        "id": "KnxUvW6vqQX6"
      }
    },
    {
      "cell_type": "code",
      "source": [
        "import matplotlib.pyplot as plt\n",
        "\n",
        "fig, ax = plt.subplots()\n",
        "\n",
        "# Dimensions\n",
        "plt.axis([-10,10,-10,10]) \n",
        "\n",
        "plt.show()\n"
      ],
      "metadata": {
        "id": "b__2RYX3qEI2",
        "colab": {
          "base_uri": "https://localhost:8080/",
          "height": 435
        },
        "outputId": "abebefcd-9a6e-4e16-beaa-47e6baa03a2c"
      },
      "execution_count": 42,
      "outputs": [
        {
          "output_type": "display_data",
          "data": {
            "text/plain": [
              "<Figure size 640x480 with 1 Axes>"
            ],
            "image/png": "[encoded data removed]"
          },
          "metadata": {}
        }
      ]
    },
    {
      "cell_type": "markdown",
      "source": [
        "A better way to set dimensions"
      ],
      "metadata": {
        "id": "Ks1e5Rh5qcDQ"
      }
    },
    {
      "cell_type": "code",
      "source": [
        "import matplotlib.pyplot as plt\n",
        "\n",
        "xmin = -10\n",
        "xmax = 10\n",
        "ymin = -10\n",
        "ymax = 20\n",
        "\n",
        "fig, ax = plt.subplots()\n",
        "plt.axis([xmin,xmax,ymin,ymax]) # window size\n",
        "plt.show()\n"
      ],
      "metadata": {
        "id": "J_V3UffyqaS6",
        "colab": {
          "base_uri": "https://localhost:8080/",
          "height": 435
        },
        "outputId": "0a227ba5-7c03-4384-dceb-7a4fe36b1500"
      },
      "execution_count": 43,
      "outputs": [
        {
          "output_type": "display_data",
          "data": {
            "text/plain": [
              "<Figure size 640x480 with 1 Axes>"
            ],
            "image/png": "[encoded data removed]"
          },
          "metadata": {}
        }
      ]
    },
    {
      "cell_type": "markdown",
      "source": [
        "Display axis lines"
      ],
      "metadata": {
        "id": "NTePeZTOqpYB"
      }
    },
    {
      "cell_type": "code",
      "source": [
        "import matplotlib.pyplot as plt\n",
        "\n",
        "xmin = -10\n",
        "xmax = 10\n",
        "ymin = -10\n",
        "ymax = 10\n",
        "\n",
        "fig, ax = plt.subplots()\n",
        "plt.axis([xmin,xmax,ymin,ymax]) # window size\n",
        "plt.plot([xmin,xmax],[0,0],'b') # blue x axis\n",
        "plt.plot([0,0],[ymin,ymax], 'b') # blue y axis\n",
        "\n",
        "plt.show()\n"
      ],
      "metadata": {
        "id": "QRUF6vE1qn7Z",
        "colab": {
          "base_uri": "https://localhost:8080/",
          "height": 435
        },
        "outputId": "955a72e0-d191-4cd4-d090-c793f234aff6"
      },
      "execution_count": 44,
      "outputs": [
        {
          "output_type": "display_data",
          "data": {
            "text/plain": [
              "<Figure size 640x480 with 1 Axes>"
            ],
            "image/png": "[encoded data removed]"
          },
          "metadata": {}
        }
      ]
    },
    {
      "cell_type": "markdown",
      "source": [
        "Plot one point"
      ],
      "metadata": {
        "id": "PixodkBKq6uR"
      }
    },
    {
      "cell_type": "code",
      "source": [
        "import matplotlib.pyplot as plt\n",
        "\n",
        "xmin = -10\n",
        "xmax = 10\n",
        "ymin = -10\n",
        "ymax = 10\n",
        "\n",
        "fig, ax = plt.subplots()\n",
        "plt.axis([xmin,xmax,ymin,ymax]) # window size\n",
        "plt.plot([xmin,xmax],[0,0],'b') # blue x axis\n",
        "plt.plot([0,0],[ymin,ymax], 'b') # blue y axis\n",
        "\n",
        "\n",
        "plt.plot([5],[4], 'ro')\n",
        "\n",
        "plt.show()\n"
      ],
      "metadata": {
        "id": "3wBcQwCYq5bp",
        "colab": {
          "base_uri": "https://localhost:8080/",
          "height": 435
        },
        "outputId": "d12746b8-c33c-43d0-d0fa-9f412656a3af"
      },
      "execution_count": 45,
      "outputs": [
        {
          "output_type": "display_data",
          "data": {
            "text/plain": [
              "<Figure size 640x480 with 1 Axes>"
            ],
            "image/png": "[encoded data removed]"
          },
          "metadata": {}
        }
      ]
    },
    {
      "cell_type": "markdown",
      "source": [
        "Plot several points as a function"
      ],
      "metadata": {
        "id": "bBe5zGMorESi"
      }
    },
    {
      "cell_type": "code",
      "source": [
        "import matplotlib.pyplot as plt\n",
        "\n",
        "xmin = -10\n",
        "xmax = 10\n",
        "ymin = -10\n",
        "ymax = 10\n",
        "\n",
        "fig, ax = plt.subplots()\n",
        "plt.axis([xmin,xmax,ymin,ymax]) # window size\n",
        "plt.plot([xmin,xmax],[0,0],'b') # blue x axis\n",
        "plt.plot([0,0],[ymin,ymax], 'b') # blue y axis\n",
        "\n",
        "for x in range(10):\n",
        "    y = 0.5*x + 1\n",
        "    plt.plot([x],[y], 'ro')\n",
        "\n",
        "plt.show()\n"
      ],
      "metadata": {
        "colab": {
          "base_uri": "https://localhost:8080/",
          "height": 435
        },
        "id": "Xt1z3DcUrCR5",
        "outputId": "9c55e25b-e2f6-46de-d1e2-5510563e9781"
      },
      "execution_count": 46,
      "outputs": [
        {
          "output_type": "display_data",
          "data": {
            "text/plain": [
              "<Figure size 640x480 with 1 Axes>"
            ],
            "image/png": "[encoded data removed]"
          },
          "metadata": {}
        }
      ]
    },
    {
      "cell_type": "markdown",
      "source": [
        "Graph and table of (x,y) values"
      ],
      "metadata": {
        "id": "8IyMfHlGsVaL"
      }
    },
    {
      "cell_type": "code",
      "source": [
        "import matplotlib.pyplot as plt\n",
        "\n",
        "xmin = -10\n",
        "xmax = 10\n",
        "ymin = -10\n",
        "ymax = 10\n",
        "\n",
        "fig, ax = plt.subplots()\n",
        "plt.axis([xmin,xmax,ymin,ymax]) # window size\n",
        "plt.plot([xmin,xmax],[0,0],'b') # blue x axis\n",
        "plt.plot([0,0],[ymin,ymax], 'b') # blue y axis\n",
        "\n",
        "print(\"x \\t y\")\n",
        "for x in range(xmin, xmax+1):\n",
        "    y = 0.5*x + 1\n",
        "    plt.plot([x],[y], 'ro')\n",
        "    print(x,\"\\t\",y)\n",
        "\n",
        "plt.show()\n"
      ],
      "metadata": {
        "id": "wyhHcBr2sTqb",
        "colab": {
          "base_uri": "https://localhost:8080/",
          "height": 817
        },
        "outputId": "01f763e7-8b39-4da5-b5fa-3b9f6e0850be"
      },
      "execution_count": 47,
      "outputs": [
        {
          "output_type": "stream",
          "name": "stdout",
          "text": [
            "x \t y\n",
            "-10 \t -4.0\n",
            "-9 \t -3.5\n",
            "-8 \t -3.0\n",
            "-7 \t -2.5\n",
            "-6 \t -2.0\n",
            "-5 \t -1.5\n",
            "-4 \t -1.0\n",
            "-3 \t -0.5\n",
            "-2 \t 0.0\n",
            "-1 \t 0.5\n",
            "0 \t 1.0\n",
            "1 \t 1.5\n",
            "2 \t 2.0\n",
            "3 \t 2.5\n",
            "4 \t 3.0\n",
            "5 \t 3.5\n",
            "6 \t 4.0\n",
            "7 \t 4.5\n",
            "8 \t 5.0\n",
            "9 \t 5.5\n",
            "10 \t 6.0\n"
          ]
        },
        {
          "output_type": "display_data",
          "data": {
            "text/plain": [
              "<Figure size 640x480 with 1 Axes>"
            ],
            "image/png": "[encoded data removed]"
          },
          "metadata": {}
        }
      ]
    },
    {
      "cell_type": "markdown",
      "source": [
        "**Question**\n",
        "After defining a function in Python, indent each line of the function how many spaces?\n",
        "\n",
        "2\n",
        "\n",
        "3\n",
        "\n",
        "4\n",
        "\n",
        "5"
      ],
      "metadata": {
        "id": "A0DDAo4czr13"
      }
    },
    {
      "cell_type": "markdown",
      "source": [
        "Answer: 4"
      ],
      "metadata": {
        "id": "AfHCKbR_z1KF"
      }
    },
    {
      "cell_type": "markdown",
      "source": [
        "# **More ways to create graphs using algebra and Python.**"
      ],
      "metadata": {
        "id": "5zvAN4Yl1_1Y"
      }
    },
    {
      "cell_type": "markdown",
      "source": [
        "Loop through function inputs"
      ],
      "metadata": {
        "id": "YrPbhUhQY0VH"
      }
    },
    {
      "cell_type": "code",
      "execution_count": 48,
      "metadata": {
        "id": "yJiVB8wdHRxS",
        "colab": {
          "base_uri": "https://localhost:8080/",
          "height": 435
        },
        "outputId": "523b1a59-9bf3-469d-9cbe-4ec65961bf2a"
      },
      "outputs": [
        {
          "output_type": "display_data",
          "data": {
            "text/plain": [
              "<Figure size 640x480 with 1 Axes>"
            ],
            "image/png": "[encoded data removed]"
          },
          "metadata": {}
        }
      ],
      "source": [
        "import matplotlib.pyplot as plt\n",
        "\n",
        "xmin = -10\n",
        "xmax = 10\n",
        "ymin = -10\n",
        "ymax = 10\n",
        "\n",
        "fig, ax = plt.subplots()\n",
        "plt.axis([xmin,xmax,ymin,ymax]) # window size\n",
        "plt.plot([xmin,xmax],[0,0],'b') # blue x axis\n",
        "plt.plot([0,0],[ymin,ymax], 'b') # blue y axis\n",
        "\n",
        "for x in range(10):\n",
        "    y = 0.5*x + 1\n",
        "    plt.plot([x],[y], 'ro')\n",
        "\n",
        "plt.show()\n"
      ]
    },
    {
      "cell_type": "markdown",
      "source": [
        "Use an array as inputs"
      ],
      "metadata": {
        "id": "vvuzPPbYY5N7"
      }
    },
    {
      "cell_type": "code",
      "source": [
        "import matplotlib.pyplot as plt\n",
        "import numpy as np\n",
        "\n",
        "xmin = -10\n",
        "xmax = 10\n",
        "ymin = -10\n",
        "ymax = 10\n",
        "points = 2*(xmax-xmin) \n",
        "x = np.linspace(xmin, xmax, points)\n",
        "\n",
        "fig, ax = plt.subplots()\n",
        "plt.axis([xmin,xmax,ymin,ymax]) # window size\n",
        "plt.plot([xmin,xmax],[0,0],'b') # blue x axis\n",
        "plt.plot([0,0],[ymin,ymax], 'b') # blue y axis\n",
        "\n",
        "y = 2*x +1\n",
        "plt.plot(x,y, 'pink')\n",
        "\n",
        "plt.show()"
      ],
      "metadata": {
        "colab": {
          "base_uri": "https://localhost:8080/",
          "height": 435
        },
        "id": "16HtjpNAIJOm",
        "outputId": "aeb08f4c-a634-4983-9aaa-b993df7eaecf"
      },
      "execution_count": 49,
      "outputs": [
        {
          "output_type": "display_data",
          "data": {
            "text/plain": [
              "<Figure size 640x480 with 1 Axes>"
            ],
            "image/png": "[encoded data removed]"
          },
          "metadata": {}
        }
      ]
    },
    {
      "cell_type": "markdown",
      "source": [
        "More ways to customize a graph"
      ],
      "metadata": {
        "id": "eEKGtD0AZEHd"
      }
    },
    {
      "cell_type": "code",
      "source": [
        "import matplotlib.pyplot as plt\n",
        "import numpy as np\n",
        "\n",
        "xmin = -10\n",
        "xmax = 10\n",
        "ymin = -10\n",
        "ymax = 10\n",
        "points = 2*(xmax-xmin)\n",
        "x = np.linspace(xmin, xmax, points)\n",
        "\n",
        "fig, ax = plt.subplots()\n",
        "plt.axis([xmin,xmax,ymin,ymax]) # window size\n",
        "plt.plot([xmin,xmax],[0,0],'b') # blue x axis\n",
        "plt.plot([0,0],[ymin,ymax], 'b') # blue y axis\n",
        "\n",
        "ax.set_xlabel(\"x values\")\n",
        "ax.set_ylabel(\"y values\")\n",
        "ax.set_title(\"Some Graph\")\n",
        "ax.grid(True)\n",
        "\n",
        "ax.set_xticks(np.arange(xmin, xmax, 1))\n",
        "ax.set_yticks(np.arange(ymin, ymax, 1))\n",
        "\n",
        "y = 2*x +1\n",
        "plt.plot(x,y, label='y=2x+1')\n",
        "plt.plot([4],[6], 'ro', label='point')\n",
        "plt.plot(x,3*x, label='steeper line')\n",
        "plt.legend()\n",
        "plt.show()\n"
      ],
      "metadata": {
        "colab": {
          "base_uri": "https://localhost:8080/",
          "height": 472
        },
        "id": "GLaAeuGxX2DU",
        "outputId": "0ab5c4bd-7e54-4d00-cd6e-aa41a2f2c5f0"
      },
      "execution_count": 50,
      "outputs": [
        {
          "output_type": "display_data",
          "data": {
            "text/plain": [
              "<Figure size 640x480 with 1 Axes>"
            ],
            "image/png": "[encoded data removed]"
          },
          "metadata": {}
        }
      ]
    },
    {
      "cell_type": "markdown",
      "source": [],
      "metadata": {
        "id": "Lu2gdv2-2SjL"
      }
    },
    {
      "cell_type": "markdown",
      "source": [
        "# **Functions and Graphing: Extra**"
      ],
      "metadata": {
        "id": "2qDLs2nQ20JR"
      }
    },
    {
      "cell_type": "markdown",
      "source": [
        "**Slope**\n"
      ],
      "metadata": {
        "id": "6rWwY6Uc24N4"
      }
    },
    {
      "cell_type": "code",
      "source": [
        "x1 = 1\n",
        "y1 = 7\n",
        "x2 = 2\n",
        "y2 = 10\n",
        "\n",
        "slope = (y2 - y1) / (x2 - x1)\n",
        "\n",
        "print(\"slope = \", slope)"
      ],
      "metadata": {
        "id": "2-ceeTFP6aQ7",
        "colab": {
          "base_uri": "https://localhost:8080/"
        },
        "outputId": "beef1a43-0dc3-4809-95e1-e8dbc8f74f36"
      },
      "execution_count": 51,
      "outputs": [
        {
          "output_type": "stream",
          "name": "stdout",
          "text": [
            "slope =  3.0\n"
          ]
        }
      ]
    },
    {
      "cell_type": "markdown",
      "source": [
        "\n",
        "<br>\n",
        "Next, developing equations...\n",
        "<br>\n"
      ],
      "metadata": {
        "id": "QVaWF-Yk6kYJ"
      }
    },
    {
      "cell_type": "code",
      "execution_count": 52,
      "metadata": {
        "id": "CKVgsCTmKjyw",
        "colab": {
          "base_uri": "https://localhost:8080/"
        },
        "outputId": "92bc2745-1ce3-44b2-c215-73e1c6ad5982"
      },
      "outputs": [
        {
          "output_type": "stream",
          "name": "stdout",
          "text": [
            "y =  -0.06506849315068493 x +  125.12328767123287\n"
          ]
        }
      ],
      "source": [
        "x1 = 632 #1\n",
        "y1 = 84 #7\n",
        "x2 = 1800 #2\n",
        "y2 = 8 #10\n",
        "\n",
        "# The slope is \"m\"\n",
        "m = (y2 - y1) / (x2 - x1)\n",
        "\n",
        "# The y intercept is \"b\"\n",
        "b = y1 - m*x1\n",
        "\n",
        "# The full equation\n",
        "print(\"y = \", m, \"x + \", b)\n"
      ]
    },
    {
      "cell_type": "markdown",
      "source": [
        "Also display the graph"
      ],
      "metadata": {
        "id": "XxRKIPpM9RsJ"
      }
    },
    {
      "cell_type": "code",
      "source": [
        "import matplotlib.pyplot as plt\n",
        "\n",
        "x1 = 2\n",
        "y1 = 3\n",
        "x2 = 6\n",
        "y2 = 8\n",
        "\n",
        "# Develop the equation y = mx + b\n",
        "m = (y2 - y1) / (x2 - x1)\n",
        "b = y1 - m*x1\n",
        "print(\"y = \", m, \"x + \", b)\n",
        "\n",
        "# For the graph\n",
        "xmin = -10\n",
        "xmax = 10\n",
        "ymin = -10\n",
        "ymax = 10\n",
        "\n",
        "# For the line on the graph\n",
        "y3 = m*xmin + b \n",
        "y4 = m*xmax + b \n",
        "\n",
        "# Basic setup for the graph\n",
        "fig, ax = plt.subplots()\n",
        "plt.axis([xmin,xmax,ymin,ymax]) # window size\n",
        "plt.plot([xmin,xmax],[0,0],'b') # blue x axis\n",
        "plt.plot([0,0],[ymin,ymax], 'b') # blue y axis\n",
        "\n",
        "# Plot the linear function as a red line\n",
        "plt.plot([xmin,xmax],[y3,y4],'r')\n",
        "\n",
        "plt.show()\n"
      ],
      "metadata": {
        "id": "4gn7sGDENUZr",
        "colab": {
          "base_uri": "https://localhost:8080/",
          "height": 452
        },
        "outputId": "3c40f6ba-ca61-41eb-aab9-5f0f681ebd4a"
      },
      "execution_count": 53,
      "outputs": [
        {
          "output_type": "stream",
          "name": "stdout",
          "text": [
            "y =  1.25 x +  0.5\n"
          ]
        },
        {
          "output_type": "display_data",
          "data": {
            "text/plain": [
              "<Figure size 640x480 with 1 Axes>"
            ],
            "image/png": "[encoded data removed]"
          },
          "metadata": {}
        }
      ]
    },
    {
      "cell_type": "markdown",
      "source": [
        "Question\n",
        "If you have already defined these variables, which of the following is the correct slope formula?\n",
        "\n",
        "\n",
        "$slope = \\frac{(y_2 - y_1)}{(x_2 - x_1)}$"
      ],
      "metadata": {
        "id": "Raszsw2q3US8"
      }
    },
    {
      "cell_type": "markdown",
      "source": [
        "# **Linear Equations**"
      ],
      "metadata": {
        "id": "y7g74h7N4A4T"
      }
    },
    {
      "cell_type": "markdown",
      "source": [
        "**Question**\n",
        "If you know the slope (\"m\") and you have one (x,y) coordinate point, which of the following equations could you use to find \"b\", representing the y-intercept in Python?\n",
        "\n",
        "\n",
        "$b = y - m*x$"
      ],
      "metadata": {
        "id": "hEgEVWpj4fPf"
      }
    },
    {
      "cell_type": "markdown",
      "source": [],
      "metadata": {
        "id": "VqyaMi_s40bq"
      }
    },
    {
      "cell_type": "markdown",
      "source": [
        "Notes and work"
      ],
      "metadata": {
        "id": "5aS6gYl3ulv5"
      }
    },
    {
      "cell_type": "code",
      "execution_count": null,
      "metadata": {
        "id": "ORJreCNZsqhu"
      },
      "outputs": [],
      "source": [
        "1500 = 10x + 500\n",
        "0 = 10x - 1000"
      ]
    },
    {
      "cell_type": "markdown",
      "source": [
        "Solve an equation"
      ],
      "metadata": {
        "id": "h9wdH3LhuG2C"
      }
    },
    {
      "cell_type": "code",
      "source": [
        "import sympy \n",
        "from sympy import symbols \n",
        "from sympy.solvers import solve \n",
        "\n",
        "x = symbols('x') \n",
        "\n",
        "# Put the equation here\n",
        "eq = 10*x - 1000\n",
        "\n",
        "solution = solve(eq,x)\n",
        "print(\"x = \", solution[0])\n"
      ],
      "metadata": {
        "colab": {
          "base_uri": "https://localhost:8080/"
        },
        "id": "Gy6sVbqVuKRB",
        "outputId": "fcb87966-5f31-4918-cc40-b3d8ba61d662"
      },
      "execution_count": 54,
      "outputs": [
        {
          "output_type": "stream",
          "name": "stdout",
          "text": [
            "x =  100\n"
          ]
        }
      ]
    },
    {
      "cell_type": "markdown",
      "source": [
        "Graph the solution:"
      ],
      "metadata": {
        "id": "ePg2nUKA5AED"
      }
    },
    {
      "cell_type": "code",
      "source": [
        "import matplotlib.pyplot as plt\n",
        "import numpy as np\n",
        "\n",
        "x1 = 0\n",
        "y1 = 0\n",
        "x2 = 40\n",
        "y2 = 13\n",
        "\n",
        "# Develop the equation y = mx + b\n",
        "m = (y2 - y1) / (x2 - x1)\n",
        "b = y1 - m*x1\n",
        "print(\"y = \", m, \"x + \", b)\n",
        "\n",
        "# For the graph\n",
        "xmin = 0\n",
        "xmax = 100\n",
        "ymin = 0\n",
        "ymax = 50\n",
        "\n",
        "# For the line on the graph\n",
        "y3 = m*xmin + b \n",
        "y4 = m*xmax + b \n",
        "\n",
        "# Basic setup for the graph\n",
        "fig, ax = plt.subplots()\n",
        "plt.axis([xmin,xmax,ymin,ymax]) # window size\n",
        "plt.plot([xmin,xmax],[0,0],'b') # blue x axis\n",
        "plt.plot([0,0],[ymin,ymax], 'b') # blue y axis\n",
        "\n",
        "# Add details to the graph\n",
        "ax.set_xlabel(\"thousands\")\n",
        "ax.set_ylabel(\"tons\")\n",
        "ax.grid(True)\n",
        "#ax.set_xticks(np.arange(xmin, xmax, 2))\n",
        "#ax.set_yticks(np.arange(ymin, ymax, 1))\n",
        "\n",
        "\n",
        "# Plot the linear function as a red line\n",
        "plt.plot([xmin,xmax],[y3,y4],'r')\n",
        "\n",
        "plt.show()\n"
      ],
      "metadata": {
        "colab": {
          "base_uri": "https://localhost:8080/",
          "height": 472
        },
        "id": "Ujs9zD4c4L0j",
        "outputId": "eaccf576-8967-4e33-fc1e-79ef618135c9"
      },
      "execution_count": 55,
      "outputs": [
        {
          "output_type": "stream",
          "name": "stdout",
          "text": [
            "y =  0.325 x +  0.0\n"
          ]
        },
        {
          "output_type": "display_data",
          "data": {
            "text/plain": [
              "<Figure size 640x480 with 1 Axes>"
            ],
            "image/png": "[encoded data removed]"
          },
          "metadata": {}
        }
      ]
    },
    {
      "cell_type": "markdown",
      "source": [
        "**Question**\n",
        "\n",
        "Which of the following would you not use when displaying a graph?\n",
        "\n",
        "ax.set_table()"
      ],
      "metadata": {
        "id": "Ff8q2yoD5Qw9"
      }
    },
    {
      "cell_type": "markdown",
      "source": [],
      "metadata": {
        "id": "RvoOMAmQ5V6N"
      }
    }
  ]
}